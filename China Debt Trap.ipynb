{
 "cells": [
  {
   "cell_type": "markdown",
   "id": "afabd16f",
   "metadata": {},
   "source": [
    "# <h1><center> China_debt_trap_policy </center></h1>"
   ]
  },
  {
   "cell_type": "markdown",
   "id": "f077892c",
   "metadata": {},
   "source": [
    "# <h1><center> Importing Necessary Libraries </center></h1>"
   ]
  },
  {
   "cell_type": "code",
   "execution_count": 156,
   "id": "715bde0e",
   "metadata": {},
   "outputs": [],
   "source": [
    "import pandas as pd\n",
    "import matplotlib.pyplot as plt\n",
    "import numpy as np\n",
    "import seaborn as sns"
   ]
  },
  {
   "cell_type": "markdown",
   "id": "3b5115f1",
   "metadata": {},
   "source": [
    "# <h1><center> Importing the Dataset </center></h1>"
   ]
  },
  {
   "cell_type": "code",
   "execution_count": 157,
   "id": "0655af63",
   "metadata": {},
   "outputs": [
    {
     "data": {
      "text/html": [
       "<div>\n",
       "<style scoped>\n",
       "    .dataframe tbody tr th:only-of-type {\n",
       "        vertical-align: middle;\n",
       "    }\n",
       "\n",
       "    .dataframe tbody tr th {\n",
       "        vertical-align: top;\n",
       "    }\n",
       "\n",
       "    .dataframe thead th {\n",
       "        text-align: right;\n",
       "    }\n",
       "</style>\n",
       "<table border=\"1\" class=\"dataframe\">\n",
       "  <thead>\n",
       "    <tr style=\"text-align: right;\">\n",
       "      <th></th>\n",
       "      <th>Expand All | Collapse All</th>\n",
       "      <th>YEAR</th>\n",
       "      <th>AMOUNT</th>\n",
       "      <th>LENDER</th>\n",
       "      <th>BORROWER</th>\n",
       "      <th>SECTOR</th>\n",
       "      <th>SENSITIVE TERRITORY OVERLAP</th>\n",
       "      <th>Country</th>\n",
       "    </tr>\n",
       "  </thead>\n",
       "  <tbody>\n",
       "    <tr>\n",
       "      <th>0</th>\n",
       "      <td>“Lar Patriota\" Infrastructure (Phase 1)</td>\n",
       "      <td>2011</td>\n",
       "      <td>$50M</td>\n",
       "      <td>CDB</td>\n",
       "      <td>Government</td>\n",
       "      <td>Transport</td>\n",
       "      <td>None Known</td>\n",
       "      <td>Angola</td>\n",
       "    </tr>\n",
       "    <tr>\n",
       "      <th>1</th>\n",
       "      <td>10-Year Oil Supply Plan (10Mt/Year), \"Oil for ...</td>\n",
       "      <td>2009</td>\n",
       "      <td>$7.0B</td>\n",
       "      <td>CDB</td>\n",
       "      <td>Petrobras</td>\n",
       "      <td>Extraction, pipelines</td>\n",
       "      <td>None Known</td>\n",
       "      <td>Brazil</td>\n",
       "    </tr>\n",
       "    <tr>\n",
       "      <th>2</th>\n",
       "      <td>1000 housing project</td>\n",
       "      <td>2012</td>\n",
       "      <td>$47M</td>\n",
       "      <td>ExImBank</td>\n",
       "      <td>Government</td>\n",
       "      <td>Government</td>\n",
       "      <td>None Known</td>\n",
       "      <td>Suriname</td>\n",
       "    </tr>\n",
       "    <tr>\n",
       "      <th>3</th>\n",
       "      <td>115kV Transmission Line and Substation from Ph...</td>\n",
       "      <td>2009</td>\n",
       "      <td>$475M</td>\n",
       "      <td>ExImBank</td>\n",
       "      <td>Electricite Du Cambodge</td>\n",
       "      <td>Power</td>\n",
       "      <td>None Known</td>\n",
       "      <td>Cambodia</td>\n",
       "    </tr>\n",
       "    <tr>\n",
       "      <th>4</th>\n",
       "      <td>151 Multisector infrastructure projects</td>\n",
       "      <td>2016</td>\n",
       "      <td>$600M</td>\n",
       "      <td>CDB</td>\n",
       "      <td>Central Bank of Kenya</td>\n",
       "      <td>Mulit-sector/discretionary</td>\n",
       "      <td>None Known</td>\n",
       "      <td>Kenya</td>\n",
       "    </tr>\n",
       "  </tbody>\n",
       "</table>\n",
       "</div>"
      ],
      "text/plain": [
       "                           Expand All | Collapse All  YEAR AMOUNT    LENDER  \\\n",
       "0            “Lar Patriota\" Infrastructure (Phase 1)  2011   $50M       CDB   \n",
       "1  10-Year Oil Supply Plan (10Mt/Year), \"Oil for ...  2009  $7.0B       CDB   \n",
       "2                               1000 housing project  2012   $47M  ExImBank   \n",
       "3  115kV Transmission Line and Substation from Ph...  2009  $475M  ExImBank   \n",
       "4            151 Multisector infrastructure projects  2016  $600M       CDB   \n",
       "\n",
       "                  BORROWER                      SECTOR  \\\n",
       "0               Government                   Transport   \n",
       "1                Petrobras       Extraction, pipelines   \n",
       "2               Government                  Government   \n",
       "3  Electricite Du Cambodge                       Power   \n",
       "4    Central Bank of Kenya  Mulit-sector/discretionary   \n",
       "\n",
       "  SENSITIVE TERRITORY OVERLAP   Country  \n",
       "0                  None Known    Angola  \n",
       "1                  None Known    Brazil  \n",
       "2                  None Known  Suriname  \n",
       "3                  None Known  Cambodia  \n",
       "4                  None Known     Kenya  "
      ]
     },
     "execution_count": 157,
     "metadata": {},
     "output_type": "execute_result"
    }
   ],
   "source": [
    "df = pd.read_csv(r'C:\\Users\\admin\\Desktop\\Python\\china_dept_trap.csv')\n",
    "df.head()"
   ]
  },
  {
   "cell_type": "markdown",
   "id": "865554d9",
   "metadata": {},
   "source": [
    "# <h1><center> Exploratory Data Analysis </center></h1>"
   ]
  },
  {
   "cell_type": "code",
   "execution_count": 158,
   "id": "c4cfd8ed",
   "metadata": {},
   "outputs": [
    {
     "data": {
      "text/plain": [
       "Expand All | Collapse All      0\n",
       "YEAR                           0\n",
       "AMOUNT                         0\n",
       "LENDER                         0\n",
       "BORROWER                       1\n",
       "SECTOR                         0\n",
       "SENSITIVE TERRITORY OVERLAP    0\n",
       "Country                        0\n",
       "dtype: int64"
      ]
     },
     "execution_count": 158,
     "metadata": {},
     "output_type": "execute_result"
    }
   ],
   "source": [
    "df.isnull().sum()"
   ]
  },
  {
   "cell_type": "markdown",
   "id": "348afc5f",
   "metadata": {},
   "source": [
    "- Borrower column include one null value.\n",
    "- We can drop the null value as we are not sure who will be the exact borrower."
   ]
  },
  {
   "cell_type": "code",
   "execution_count": 159,
   "id": "66d7b651",
   "metadata": {},
   "outputs": [],
   "source": [
    "df = df.rename(columns={'Expand All | Collapse All': 'Projects'})"
   ]
  },
  {
   "cell_type": "markdown",
   "id": "b6d0b1a9",
   "metadata": {},
   "source": [
    "- We have renamed the 'Expand All | Collapse All' to 'Projects'"
   ]
  },
  {
   "cell_type": "code",
   "execution_count": 160,
   "id": "89e9b7d9",
   "metadata": {},
   "outputs": [
    {
     "data": {
      "text/html": [
       "<div>\n",
       "<style scoped>\n",
       "    .dataframe tbody tr th:only-of-type {\n",
       "        vertical-align: middle;\n",
       "    }\n",
       "\n",
       "    .dataframe tbody tr th {\n",
       "        vertical-align: top;\n",
       "    }\n",
       "\n",
       "    .dataframe thead th {\n",
       "        text-align: right;\n",
       "    }\n",
       "</style>\n",
       "<table border=\"1\" class=\"dataframe\">\n",
       "  <thead>\n",
       "    <tr style=\"text-align: right;\">\n",
       "      <th></th>\n",
       "      <th>Projects</th>\n",
       "      <th>YEAR</th>\n",
       "      <th>AMOUNT</th>\n",
       "      <th>LENDER</th>\n",
       "      <th>BORROWER</th>\n",
       "      <th>SECTOR</th>\n",
       "      <th>SENSITIVE TERRITORY OVERLAP</th>\n",
       "      <th>Country</th>\n",
       "    </tr>\n",
       "  </thead>\n",
       "  <tbody>\n",
       "    <tr>\n",
       "      <th>0</th>\n",
       "      <td>“Lar Patriota\" Infrastructure (Phase 1)</td>\n",
       "      <td>2011</td>\n",
       "      <td>$50M</td>\n",
       "      <td>CDB</td>\n",
       "      <td>Government</td>\n",
       "      <td>Transport</td>\n",
       "      <td>None Known</td>\n",
       "      <td>Angola</td>\n",
       "    </tr>\n",
       "    <tr>\n",
       "      <th>1</th>\n",
       "      <td>10-Year Oil Supply Plan (10Mt/Year), \"Oil for ...</td>\n",
       "      <td>2009</td>\n",
       "      <td>$7.0B</td>\n",
       "      <td>CDB</td>\n",
       "      <td>Petrobras</td>\n",
       "      <td>Extraction, pipelines</td>\n",
       "      <td>None Known</td>\n",
       "      <td>Brazil</td>\n",
       "    </tr>\n",
       "    <tr>\n",
       "      <th>2</th>\n",
       "      <td>1000 housing project</td>\n",
       "      <td>2012</td>\n",
       "      <td>$47M</td>\n",
       "      <td>ExImBank</td>\n",
       "      <td>Government</td>\n",
       "      <td>Government</td>\n",
       "      <td>None Known</td>\n",
       "      <td>Suriname</td>\n",
       "    </tr>\n",
       "    <tr>\n",
       "      <th>3</th>\n",
       "      <td>115kV Transmission Line and Substation from Ph...</td>\n",
       "      <td>2009</td>\n",
       "      <td>$475M</td>\n",
       "      <td>ExImBank</td>\n",
       "      <td>Electricite Du Cambodge</td>\n",
       "      <td>Power</td>\n",
       "      <td>None Known</td>\n",
       "      <td>Cambodia</td>\n",
       "    </tr>\n",
       "    <tr>\n",
       "      <th>4</th>\n",
       "      <td>151 Multisector infrastructure projects</td>\n",
       "      <td>2016</td>\n",
       "      <td>$600M</td>\n",
       "      <td>CDB</td>\n",
       "      <td>Central Bank of Kenya</td>\n",
       "      <td>Mulit-sector/discretionary</td>\n",
       "      <td>None Known</td>\n",
       "      <td>Kenya</td>\n",
       "    </tr>\n",
       "  </tbody>\n",
       "</table>\n",
       "</div>"
      ],
      "text/plain": [
       "                                            Projects  YEAR AMOUNT    LENDER  \\\n",
       "0            “Lar Patriota\" Infrastructure (Phase 1)  2011   $50M       CDB   \n",
       "1  10-Year Oil Supply Plan (10Mt/Year), \"Oil for ...  2009  $7.0B       CDB   \n",
       "2                               1000 housing project  2012   $47M  ExImBank   \n",
       "3  115kV Transmission Line and Substation from Ph...  2009  $475M  ExImBank   \n",
       "4            151 Multisector infrastructure projects  2016  $600M       CDB   \n",
       "\n",
       "                  BORROWER                      SECTOR  \\\n",
       "0               Government                   Transport   \n",
       "1                Petrobras       Extraction, pipelines   \n",
       "2               Government                  Government   \n",
       "3  Electricite Du Cambodge                       Power   \n",
       "4    Central Bank of Kenya  Mulit-sector/discretionary   \n",
       "\n",
       "  SENSITIVE TERRITORY OVERLAP   Country  \n",
       "0                  None Known    Angola  \n",
       "1                  None Known    Brazil  \n",
       "2                  None Known  Suriname  \n",
       "3                  None Known  Cambodia  \n",
       "4                  None Known     Kenya  "
      ]
     },
     "execution_count": 160,
     "metadata": {},
     "output_type": "execute_result"
    }
   ],
   "source": [
    "df.head()"
   ]
  },
  {
   "cell_type": "code",
   "execution_count": 161,
   "id": "d91948c5",
   "metadata": {},
   "outputs": [
    {
     "name": "stdout",
     "output_type": "stream",
     "text": [
      "<class 'pandas.core.frame.DataFrame'>\n",
      "RangeIndex: 858 entries, 0 to 857\n",
      "Data columns (total 8 columns):\n",
      " #   Column                       Non-Null Count  Dtype \n",
      "---  ------                       --------------  ----- \n",
      " 0   Projects                     858 non-null    object\n",
      " 1   YEAR                         858 non-null    int64 \n",
      " 2   AMOUNT                       858 non-null    object\n",
      " 3   LENDER                       858 non-null    object\n",
      " 4   BORROWER                     857 non-null    object\n",
      " 5   SECTOR                       858 non-null    object\n",
      " 6   SENSITIVE TERRITORY OVERLAP  858 non-null    object\n",
      " 7   Country                      858 non-null    object\n",
      "dtypes: int64(1), object(7)\n",
      "memory usage: 53.8+ KB\n"
     ]
    }
   ],
   "source": [
    "df.info()"
   ]
  },
  {
   "cell_type": "markdown",
   "id": "781e4776",
   "metadata": {},
   "source": [
    "- Only year is of integer DataType\n",
    "- we need to convert the data type of Amount column"
   ]
  },
  {
   "cell_type": "code",
   "execution_count": 162,
   "id": "45d50755",
   "metadata": {},
   "outputs": [],
   "source": [
    "df.dropna(inplace = True)"
   ]
  },
  {
   "cell_type": "markdown",
   "id": "48dbd1f7",
   "metadata": {},
   "source": [
    "- Dropping the null value"
   ]
  },
  {
   "cell_type": "code",
   "execution_count": 163,
   "id": "c3b895e8",
   "metadata": {},
   "outputs": [
    {
     "data": {
      "text/plain": [
       "Projects                       0\n",
       "YEAR                           0\n",
       "AMOUNT                         0\n",
       "LENDER                         0\n",
       "BORROWER                       0\n",
       "SECTOR                         0\n",
       "SENSITIVE TERRITORY OVERLAP    0\n",
       "Country                        0\n",
       "dtype: int64"
      ]
     },
     "execution_count": 163,
     "metadata": {},
     "output_type": "execute_result"
    }
   ],
   "source": [
    "df.isna().sum()"
   ]
  },
  {
   "cell_type": "code",
   "execution_count": 164,
   "id": "0ef65cd0",
   "metadata": {},
   "outputs": [],
   "source": [
    "df.index = np.arange(857)"
   ]
  },
  {
   "cell_type": "markdown",
   "id": "1ab5c9b0",
   "metadata": {},
   "source": [
    "- we will modify the index of our dataframe by assigning a array of serial numbers to it."
   ]
  },
  {
   "cell_type": "code",
   "execution_count": 165,
   "id": "63fa936f",
   "metadata": {},
   "outputs": [
    {
     "data": {
      "text/plain": [
       "0       $50M\n",
       "1      $7.0B\n",
       "2       $47M\n",
       "3      $475M\n",
       "4      $600M\n",
       "       ...  \n",
       "852    $120M\n",
       "853     $73M\n",
       "854    $217M\n",
       "855    $367M\n",
       "856    $984M\n",
       "Name: AMOUNT, Length: 857, dtype: object"
      ]
     },
     "execution_count": 165,
     "metadata": {},
     "output_type": "execute_result"
    }
   ],
   "source": [
    "df['AMOUNT']"
   ]
  },
  {
   "cell_type": "code",
   "execution_count": 166,
   "id": "0ef1c5ac",
   "metadata": {},
   "outputs": [
    {
     "data": {
      "text/plain": [
       "[50.0, 7000.0, 47.0, 475.0, 600.0, 27.0, 90.0, 180.0, 299.0, 199.0]"
      ]
     },
     "execution_count": 166,
     "metadata": {},
     "output_type": "execute_result"
    }
   ],
   "source": [
    "num = []\n",
    "for i in df['AMOUNT']:\n",
    "    i = i.replace('$', '')\n",
    "    if 'B' in i:\n",
    "        i = i.replace('B', '')\n",
    "        i = float(i) * 1000\n",
    "    elif 'M' in i:\n",
    "        i = i.replace('M', '')\n",
    "        i = float(i)\n",
    "    num.append(i)\n",
    "num[0:10]"
   ]
  },
  {
   "cell_type": "markdown",
   "id": "39c8cb5f",
   "metadata": {},
   "source": [
    "- Converting the datatype of Amount Column"
   ]
  },
  {
   "cell_type": "code",
   "execution_count": 167,
   "id": "e02c9f2d",
   "metadata": {},
   "outputs": [],
   "source": [
    "df['AMOUNT']=num"
   ]
  },
  {
   "cell_type": "markdown",
   "id": "6a8e4f54",
   "metadata": {},
   "source": [
    "- fitting the amount column into data frame"
   ]
  },
  {
   "cell_type": "code",
   "execution_count": 168,
   "id": "e23dd817",
   "metadata": {},
   "outputs": [
    {
     "data": {
      "text/html": [
       "<div>\n",
       "<style scoped>\n",
       "    .dataframe tbody tr th:only-of-type {\n",
       "        vertical-align: middle;\n",
       "    }\n",
       "\n",
       "    .dataframe tbody tr th {\n",
       "        vertical-align: top;\n",
       "    }\n",
       "\n",
       "    .dataframe thead th {\n",
       "        text-align: right;\n",
       "    }\n",
       "</style>\n",
       "<table border=\"1\" class=\"dataframe\">\n",
       "  <thead>\n",
       "    <tr style=\"text-align: right;\">\n",
       "      <th></th>\n",
       "      <th>Projects</th>\n",
       "      <th>YEAR</th>\n",
       "      <th>AMOUNT</th>\n",
       "      <th>LENDER</th>\n",
       "      <th>BORROWER</th>\n",
       "      <th>SECTOR</th>\n",
       "      <th>SENSITIVE TERRITORY OVERLAP</th>\n",
       "      <th>Country</th>\n",
       "    </tr>\n",
       "  </thead>\n",
       "  <tbody>\n",
       "    <tr>\n",
       "      <th>0</th>\n",
       "      <td>“Lar Patriota\" Infrastructure (Phase 1)</td>\n",
       "      <td>2011</td>\n",
       "      <td>50.0</td>\n",
       "      <td>CDB</td>\n",
       "      <td>Government</td>\n",
       "      <td>Transport</td>\n",
       "      <td>None Known</td>\n",
       "      <td>Angola</td>\n",
       "    </tr>\n",
       "    <tr>\n",
       "      <th>1</th>\n",
       "      <td>10-Year Oil Supply Plan (10Mt/Year), \"Oil for ...</td>\n",
       "      <td>2009</td>\n",
       "      <td>7000.0</td>\n",
       "      <td>CDB</td>\n",
       "      <td>Petrobras</td>\n",
       "      <td>Extraction, pipelines</td>\n",
       "      <td>None Known</td>\n",
       "      <td>Brazil</td>\n",
       "    </tr>\n",
       "    <tr>\n",
       "      <th>2</th>\n",
       "      <td>1000 housing project</td>\n",
       "      <td>2012</td>\n",
       "      <td>47.0</td>\n",
       "      <td>ExImBank</td>\n",
       "      <td>Government</td>\n",
       "      <td>Government</td>\n",
       "      <td>None Known</td>\n",
       "      <td>Suriname</td>\n",
       "    </tr>\n",
       "    <tr>\n",
       "      <th>3</th>\n",
       "      <td>115kV Transmission Line and Substation from Ph...</td>\n",
       "      <td>2009</td>\n",
       "      <td>475.0</td>\n",
       "      <td>ExImBank</td>\n",
       "      <td>Electricite Du Cambodge</td>\n",
       "      <td>Power</td>\n",
       "      <td>None Known</td>\n",
       "      <td>Cambodia</td>\n",
       "    </tr>\n",
       "    <tr>\n",
       "      <th>4</th>\n",
       "      <td>151 Multisector infrastructure projects</td>\n",
       "      <td>2016</td>\n",
       "      <td>600.0</td>\n",
       "      <td>CDB</td>\n",
       "      <td>Central Bank of Kenya</td>\n",
       "      <td>Mulit-sector/discretionary</td>\n",
       "      <td>None Known</td>\n",
       "      <td>Kenya</td>\n",
       "    </tr>\n",
       "  </tbody>\n",
       "</table>\n",
       "</div>"
      ],
      "text/plain": [
       "                                            Projects  YEAR  AMOUNT    LENDER  \\\n",
       "0            “Lar Patriota\" Infrastructure (Phase 1)  2011    50.0       CDB   \n",
       "1  10-Year Oil Supply Plan (10Mt/Year), \"Oil for ...  2009  7000.0       CDB   \n",
       "2                               1000 housing project  2012    47.0  ExImBank   \n",
       "3  115kV Transmission Line and Substation from Ph...  2009   475.0  ExImBank   \n",
       "4            151 Multisector infrastructure projects  2016   600.0       CDB   \n",
       "\n",
       "                  BORROWER                      SECTOR  \\\n",
       "0               Government                   Transport   \n",
       "1                Petrobras       Extraction, pipelines   \n",
       "2               Government                  Government   \n",
       "3  Electricite Du Cambodge                       Power   \n",
       "4    Central Bank of Kenya  Mulit-sector/discretionary   \n",
       "\n",
       "  SENSITIVE TERRITORY OVERLAP   Country  \n",
       "0                  None Known    Angola  \n",
       "1                  None Known    Brazil  \n",
       "2                  None Known  Suriname  \n",
       "3                  None Known  Cambodia  \n",
       "4                  None Known     Kenya  "
      ]
     },
     "execution_count": 168,
     "metadata": {},
     "output_type": "execute_result"
    }
   ],
   "source": [
    "df.head()"
   ]
  },
  {
   "cell_type": "code",
   "execution_count": 169,
   "id": "fa3aa75b",
   "metadata": {},
   "outputs": [
    {
     "name": "stdout",
     "output_type": "stream",
     "text": [
      "<class 'pandas.core.frame.DataFrame'>\n",
      "Int64Index: 857 entries, 0 to 856\n",
      "Data columns (total 8 columns):\n",
      " #   Column                       Non-Null Count  Dtype  \n",
      "---  ------                       --------------  -----  \n",
      " 0   Projects                     857 non-null    object \n",
      " 1   YEAR                         857 non-null    int64  \n",
      " 2   AMOUNT                       857 non-null    float64\n",
      " 3   LENDER                       857 non-null    object \n",
      " 4   BORROWER                     857 non-null    object \n",
      " 5   SECTOR                       857 non-null    object \n",
      " 6   SENSITIVE TERRITORY OVERLAP  857 non-null    object \n",
      " 7   Country                      857 non-null    object \n",
      "dtypes: float64(1), int64(1), object(6)\n",
      "memory usage: 60.3+ KB\n"
     ]
    }
   ],
   "source": [
    "df.info()"
   ]
  },
  {
   "cell_type": "code",
   "execution_count": 170,
   "id": "8fba87ab",
   "metadata": {},
   "outputs": [],
   "source": [
    "df.drop(['Projects'], axis=1, inplace = True)"
   ]
  },
  {
   "cell_type": "code",
   "execution_count": 171,
   "id": "bacd83d1",
   "metadata": {},
   "outputs": [
    {
     "data": {
      "text/html": [
       "<div>\n",
       "<style scoped>\n",
       "    .dataframe tbody tr th:only-of-type {\n",
       "        vertical-align: middle;\n",
       "    }\n",
       "\n",
       "    .dataframe tbody tr th {\n",
       "        vertical-align: top;\n",
       "    }\n",
       "\n",
       "    .dataframe thead th {\n",
       "        text-align: right;\n",
       "    }\n",
       "</style>\n",
       "<table border=\"1\" class=\"dataframe\">\n",
       "  <thead>\n",
       "    <tr style=\"text-align: right;\">\n",
       "      <th></th>\n",
       "      <th>YEAR</th>\n",
       "      <th>AMOUNT</th>\n",
       "      <th>LENDER</th>\n",
       "      <th>BORROWER</th>\n",
       "      <th>SECTOR</th>\n",
       "      <th>SENSITIVE TERRITORY OVERLAP</th>\n",
       "      <th>Country</th>\n",
       "    </tr>\n",
       "  </thead>\n",
       "  <tbody>\n",
       "    <tr>\n",
       "      <th>0</th>\n",
       "      <td>2011</td>\n",
       "      <td>50.0</td>\n",
       "      <td>CDB</td>\n",
       "      <td>Government</td>\n",
       "      <td>Transport</td>\n",
       "      <td>None Known</td>\n",
       "      <td>Angola</td>\n",
       "    </tr>\n",
       "    <tr>\n",
       "      <th>1</th>\n",
       "      <td>2009</td>\n",
       "      <td>7000.0</td>\n",
       "      <td>CDB</td>\n",
       "      <td>Petrobras</td>\n",
       "      <td>Extraction, pipelines</td>\n",
       "      <td>None Known</td>\n",
       "      <td>Brazil</td>\n",
       "    </tr>\n",
       "    <tr>\n",
       "      <th>2</th>\n",
       "      <td>2012</td>\n",
       "      <td>47.0</td>\n",
       "      <td>ExImBank</td>\n",
       "      <td>Government</td>\n",
       "      <td>Government</td>\n",
       "      <td>None Known</td>\n",
       "      <td>Suriname</td>\n",
       "    </tr>\n",
       "    <tr>\n",
       "      <th>3</th>\n",
       "      <td>2009</td>\n",
       "      <td>475.0</td>\n",
       "      <td>ExImBank</td>\n",
       "      <td>Electricite Du Cambodge</td>\n",
       "      <td>Power</td>\n",
       "      <td>None Known</td>\n",
       "      <td>Cambodia</td>\n",
       "    </tr>\n",
       "    <tr>\n",
       "      <th>4</th>\n",
       "      <td>2016</td>\n",
       "      <td>600.0</td>\n",
       "      <td>CDB</td>\n",
       "      <td>Central Bank of Kenya</td>\n",
       "      <td>Mulit-sector/discretionary</td>\n",
       "      <td>None Known</td>\n",
       "      <td>Kenya</td>\n",
       "    </tr>\n",
       "  </tbody>\n",
       "</table>\n",
       "</div>"
      ],
      "text/plain": [
       "   YEAR  AMOUNT    LENDER                 BORROWER  \\\n",
       "0  2011    50.0       CDB               Government   \n",
       "1  2009  7000.0       CDB                Petrobras   \n",
       "2  2012    47.0  ExImBank               Government   \n",
       "3  2009   475.0  ExImBank  Electricite Du Cambodge   \n",
       "4  2016   600.0       CDB    Central Bank of Kenya   \n",
       "\n",
       "                       SECTOR SENSITIVE TERRITORY OVERLAP   Country  \n",
       "0                   Transport                  None Known    Angola  \n",
       "1       Extraction, pipelines                  None Known    Brazil  \n",
       "2                  Government                  None Known  Suriname  \n",
       "3                       Power                  None Known  Cambodia  \n",
       "4  Mulit-sector/discretionary                  None Known     Kenya  "
      ]
     },
     "execution_count": 171,
     "metadata": {},
     "output_type": "execute_result"
    }
   ],
   "source": [
    "df.head()"
   ]
  },
  {
   "cell_type": "markdown",
   "id": "e9663132",
   "metadata": {},
   "source": [
    "- we have dropped the Projects column as it include almost 800 + unique value"
   ]
  },
  {
   "cell_type": "code",
   "execution_count": 172,
   "id": "e300c003",
   "metadata": {},
   "outputs": [
    {
     "data": {
      "text/html": [
       "<div>\n",
       "<style scoped>\n",
       "    .dataframe tbody tr th:only-of-type {\n",
       "        vertical-align: middle;\n",
       "    }\n",
       "\n",
       "    .dataframe tbody tr th {\n",
       "        vertical-align: top;\n",
       "    }\n",
       "\n",
       "    .dataframe thead th {\n",
       "        text-align: right;\n",
       "    }\n",
       "</style>\n",
       "<table border=\"1\" class=\"dataframe\">\n",
       "  <thead>\n",
       "    <tr style=\"text-align: right;\">\n",
       "      <th></th>\n",
       "      <th>0</th>\n",
       "    </tr>\n",
       "  </thead>\n",
       "  <tbody>\n",
       "    <tr>\n",
       "      <th>0</th>\n",
       "      <td>CDB</td>\n",
       "    </tr>\n",
       "    <tr>\n",
       "      <th>1</th>\n",
       "      <td>ExImBank</td>\n",
       "    </tr>\n",
       "    <tr>\n",
       "      <th>2</th>\n",
       "      <td>CDB, ExImBank</td>\n",
       "    </tr>\n",
       "    <tr>\n",
       "      <th>3</th>\n",
       "      <td>BOC, CDB, ExImBank</td>\n",
       "    </tr>\n",
       "    <tr>\n",
       "      <th>4</th>\n",
       "      <td>CDB, ICBC</td>\n",
       "    </tr>\n",
       "    <tr>\n",
       "      <th>5</th>\n",
       "      <td>CDB, others</td>\n",
       "    </tr>\n",
       "    <tr>\n",
       "      <th>6</th>\n",
       "      <td>CDB, Citic</td>\n",
       "    </tr>\n",
       "  </tbody>\n",
       "</table>\n",
       "</div>"
      ],
      "text/plain": [
       "                    0\n",
       "0                 CDB\n",
       "1            ExImBank\n",
       "2       CDB, ExImBank\n",
       "3  BOC, CDB, ExImBank\n",
       "4           CDB, ICBC\n",
       "5         CDB, others\n",
       "6          CDB, Citic"
      ]
     },
     "execution_count": 172,
     "metadata": {},
     "output_type": "execute_result"
    }
   ],
   "source": [
    "pd.DataFrame(df['LENDER'].unique())"
   ]
  },
  {
   "cell_type": "markdown",
   "id": "86febc07",
   "metadata": {},
   "source": [
    "- Determing the unique lender of china"
   ]
  },
  {
   "cell_type": "code",
   "execution_count": 173,
   "id": "eb55b67b",
   "metadata": {},
   "outputs": [],
   "source": [
    "c = []\n",
    "d = []\n",
    "for i in df['LENDER']:\n",
    "    c = i.split(',')\n",
    "    d.append(c)"
   ]
  },
  {
   "cell_type": "markdown",
   "id": "e744ec94",
   "metadata": {},
   "source": [
    "* Here, we take 2 empty lists.\n",
    "* We iterate over the 'LENDER' column and those values are stored in i.\n",
    "* We can split the strings in i by commas(,).\n",
    "* The strings which are split are stored as multiple elements in list c.\n",
    "* list c is added to list d.\n",
    "* We will replace column 'LENDER' with list d."
   ]
  },
  {
   "cell_type": "code",
   "execution_count": 174,
   "id": "d9bf2a09",
   "metadata": {},
   "outputs": [],
   "source": [
    "df['LENDER']=d"
   ]
  },
  {
   "cell_type": "code",
   "execution_count": 175,
   "id": "cd9d9fa3",
   "metadata": {},
   "outputs": [
    {
     "data": {
      "text/html": [
       "<div>\n",
       "<style scoped>\n",
       "    .dataframe tbody tr th:only-of-type {\n",
       "        vertical-align: middle;\n",
       "    }\n",
       "\n",
       "    .dataframe tbody tr th {\n",
       "        vertical-align: top;\n",
       "    }\n",
       "\n",
       "    .dataframe thead th {\n",
       "        text-align: right;\n",
       "    }\n",
       "</style>\n",
       "<table border=\"1\" class=\"dataframe\">\n",
       "  <thead>\n",
       "    <tr style=\"text-align: right;\">\n",
       "      <th></th>\n",
       "      <th>YEAR</th>\n",
       "      <th>AMOUNT</th>\n",
       "      <th>LENDER</th>\n",
       "      <th>BORROWER</th>\n",
       "      <th>SECTOR</th>\n",
       "      <th>SENSITIVE TERRITORY OVERLAP</th>\n",
       "      <th>Country</th>\n",
       "    </tr>\n",
       "  </thead>\n",
       "  <tbody>\n",
       "    <tr>\n",
       "      <th>0</th>\n",
       "      <td>2011</td>\n",
       "      <td>50.0</td>\n",
       "      <td>[CDB]</td>\n",
       "      <td>Government</td>\n",
       "      <td>Transport</td>\n",
       "      <td>None Known</td>\n",
       "      <td>Angola</td>\n",
       "    </tr>\n",
       "    <tr>\n",
       "      <th>1</th>\n",
       "      <td>2009</td>\n",
       "      <td>7000.0</td>\n",
       "      <td>[CDB]</td>\n",
       "      <td>Petrobras</td>\n",
       "      <td>Extraction, pipelines</td>\n",
       "      <td>None Known</td>\n",
       "      <td>Brazil</td>\n",
       "    </tr>\n",
       "    <tr>\n",
       "      <th>2</th>\n",
       "      <td>2012</td>\n",
       "      <td>47.0</td>\n",
       "      <td>[ExImBank]</td>\n",
       "      <td>Government</td>\n",
       "      <td>Government</td>\n",
       "      <td>None Known</td>\n",
       "      <td>Suriname</td>\n",
       "    </tr>\n",
       "    <tr>\n",
       "      <th>3</th>\n",
       "      <td>2009</td>\n",
       "      <td>475.0</td>\n",
       "      <td>[ExImBank]</td>\n",
       "      <td>Electricite Du Cambodge</td>\n",
       "      <td>Power</td>\n",
       "      <td>None Known</td>\n",
       "      <td>Cambodia</td>\n",
       "    </tr>\n",
       "    <tr>\n",
       "      <th>4</th>\n",
       "      <td>2016</td>\n",
       "      <td>600.0</td>\n",
       "      <td>[CDB]</td>\n",
       "      <td>Central Bank of Kenya</td>\n",
       "      <td>Mulit-sector/discretionary</td>\n",
       "      <td>None Known</td>\n",
       "      <td>Kenya</td>\n",
       "    </tr>\n",
       "  </tbody>\n",
       "</table>\n",
       "</div>"
      ],
      "text/plain": [
       "   YEAR  AMOUNT      LENDER                 BORROWER  \\\n",
       "0  2011    50.0       [CDB]               Government   \n",
       "1  2009  7000.0       [CDB]                Petrobras   \n",
       "2  2012    47.0  [ExImBank]               Government   \n",
       "3  2009   475.0  [ExImBank]  Electricite Du Cambodge   \n",
       "4  2016   600.0       [CDB]    Central Bank of Kenya   \n",
       "\n",
       "                       SECTOR SENSITIVE TERRITORY OVERLAP   Country  \n",
       "0                   Transport                  None Known    Angola  \n",
       "1       Extraction, pipelines                  None Known    Brazil  \n",
       "2                  Government                  None Known  Suriname  \n",
       "3                       Power                  None Known  Cambodia  \n",
       "4  Mulit-sector/discretionary                  None Known     Kenya  "
      ]
     },
     "execution_count": 175,
     "metadata": {},
     "output_type": "execute_result"
    }
   ],
   "source": [
    "df.head()"
   ]
  },
  {
   "cell_type": "markdown",
   "id": "dbcf1990",
   "metadata": {},
   "source": [
    "* We can use MultiLabelBinarizer, it creates new columns for unique values but unlike One Hot Encoding.\n",
    "* MultiLabelBinarizer appends 1 to the respective column if that value is present and 0 if that value is absent for that particular row.\n",
    "* MulitLabelBinarizer will append 1 to CDB and also 1 to ExImBank if that value in 'LENDER' is 'CDB,ExImBank' "
   ]
  },
  {
   "cell_type": "code",
   "execution_count": 176,
   "id": "2c41dec3",
   "metadata": {},
   "outputs": [
    {
     "data": {
      "text/html": [
       "<div>\n",
       "<style scoped>\n",
       "    .dataframe tbody tr th:only-of-type {\n",
       "        vertical-align: middle;\n",
       "    }\n",
       "\n",
       "    .dataframe tbody tr th {\n",
       "        vertical-align: top;\n",
       "    }\n",
       "\n",
       "    .dataframe thead th {\n",
       "        text-align: right;\n",
       "    }\n",
       "</style>\n",
       "<table border=\"1\" class=\"dataframe\">\n",
       "  <thead>\n",
       "    <tr style=\"text-align: right;\">\n",
       "      <th></th>\n",
       "      <th>YEAR</th>\n",
       "      <th>AMOUNT</th>\n",
       "      <th>BORROWER</th>\n",
       "      <th>SECTOR</th>\n",
       "      <th>SENSITIVE TERRITORY OVERLAP</th>\n",
       "      <th>Country</th>\n",
       "      <th>CDB</th>\n",
       "      <th>Citic</th>\n",
       "      <th>ExImBank</th>\n",
       "      <th>ICBC</th>\n",
       "      <th>others</th>\n",
       "      <th>BOC</th>\n",
       "      <th>CDB</th>\n",
       "      <th>ExImBank</th>\n",
       "    </tr>\n",
       "  </thead>\n",
       "  <tbody>\n",
       "    <tr>\n",
       "      <th>0</th>\n",
       "      <td>2011</td>\n",
       "      <td>50.0</td>\n",
       "      <td>Government</td>\n",
       "      <td>Transport</td>\n",
       "      <td>None Known</td>\n",
       "      <td>Angola</td>\n",
       "      <td>0</td>\n",
       "      <td>0</td>\n",
       "      <td>0</td>\n",
       "      <td>0</td>\n",
       "      <td>0</td>\n",
       "      <td>0</td>\n",
       "      <td>1</td>\n",
       "      <td>0</td>\n",
       "    </tr>\n",
       "    <tr>\n",
       "      <th>1</th>\n",
       "      <td>2009</td>\n",
       "      <td>7000.0</td>\n",
       "      <td>Petrobras</td>\n",
       "      <td>Extraction, pipelines</td>\n",
       "      <td>None Known</td>\n",
       "      <td>Brazil</td>\n",
       "      <td>0</td>\n",
       "      <td>0</td>\n",
       "      <td>0</td>\n",
       "      <td>0</td>\n",
       "      <td>0</td>\n",
       "      <td>0</td>\n",
       "      <td>1</td>\n",
       "      <td>0</td>\n",
       "    </tr>\n",
       "    <tr>\n",
       "      <th>2</th>\n",
       "      <td>2012</td>\n",
       "      <td>47.0</td>\n",
       "      <td>Government</td>\n",
       "      <td>Government</td>\n",
       "      <td>None Known</td>\n",
       "      <td>Suriname</td>\n",
       "      <td>0</td>\n",
       "      <td>0</td>\n",
       "      <td>0</td>\n",
       "      <td>0</td>\n",
       "      <td>0</td>\n",
       "      <td>0</td>\n",
       "      <td>0</td>\n",
       "      <td>1</td>\n",
       "    </tr>\n",
       "    <tr>\n",
       "      <th>3</th>\n",
       "      <td>2009</td>\n",
       "      <td>475.0</td>\n",
       "      <td>Electricite Du Cambodge</td>\n",
       "      <td>Power</td>\n",
       "      <td>None Known</td>\n",
       "      <td>Cambodia</td>\n",
       "      <td>0</td>\n",
       "      <td>0</td>\n",
       "      <td>0</td>\n",
       "      <td>0</td>\n",
       "      <td>0</td>\n",
       "      <td>0</td>\n",
       "      <td>0</td>\n",
       "      <td>1</td>\n",
       "    </tr>\n",
       "    <tr>\n",
       "      <th>4</th>\n",
       "      <td>2016</td>\n",
       "      <td>600.0</td>\n",
       "      <td>Central Bank of Kenya</td>\n",
       "      <td>Mulit-sector/discretionary</td>\n",
       "      <td>None Known</td>\n",
       "      <td>Kenya</td>\n",
       "      <td>0</td>\n",
       "      <td>0</td>\n",
       "      <td>0</td>\n",
       "      <td>0</td>\n",
       "      <td>0</td>\n",
       "      <td>0</td>\n",
       "      <td>1</td>\n",
       "      <td>0</td>\n",
       "    </tr>\n",
       "  </tbody>\n",
       "</table>\n",
       "</div>"
      ],
      "text/plain": [
       "   YEAR  AMOUNT                 BORROWER                      SECTOR  \\\n",
       "0  2011    50.0               Government                   Transport   \n",
       "1  2009  7000.0                Petrobras       Extraction, pipelines   \n",
       "2  2012    47.0               Government                  Government   \n",
       "3  2009   475.0  Electricite Du Cambodge                       Power   \n",
       "4  2016   600.0    Central Bank of Kenya  Mulit-sector/discretionary   \n",
       "\n",
       "  SENSITIVE TERRITORY OVERLAP   Country   CDB   Citic   ExImBank   ICBC  \\\n",
       "0                  None Known    Angola     0       0          0      0   \n",
       "1                  None Known    Brazil     0       0          0      0   \n",
       "2                  None Known  Suriname     0       0          0      0   \n",
       "3                  None Known  Cambodia     0       0          0      0   \n",
       "4                  None Known     Kenya     0       0          0      0   \n",
       "\n",
       "    others  BOC  CDB  ExImBank  \n",
       "0        0    0    1         0  \n",
       "1        0    0    1         0  \n",
       "2        0    0    0         1  \n",
       "3        0    0    0         1  \n",
       "4        0    0    1         0  "
      ]
     },
     "execution_count": 176,
     "metadata": {},
     "output_type": "execute_result"
    }
   ],
   "source": [
    "from sklearn.preprocessing import MultiLabelBinarizer\n",
    "dummie = MultiLabelBinarizer()\n",
    "df = df.join(pd.DataFrame(dummie.fit_transform(df.pop('LENDER')),\n",
    "                index=df.index,\n",
    "                columns=dummie.classes_))\n",
    "df.head(5)"
   ]
  },
  {
   "cell_type": "markdown",
   "id": "ce98ceaa",
   "metadata": {},
   "source": [
    "* MultiLabelBinarizer has created nwew columns for the unique values in the lists.\n",
    "* The column 'LENDER' has been dropped.\n",
    "* But there is a slight problem.\n",
    "* There are 2 columns for 'CDB' and 'ExImBank'.\n",
    "* Let us see the column names to find out the reason."
   ]
  },
  {
   "cell_type": "code",
   "execution_count": 177,
   "id": "da654980",
   "metadata": {},
   "outputs": [
    {
     "data": {
      "text/plain": [
       "Index(['YEAR', 'AMOUNT', 'BORROWER', 'SECTOR', 'SENSITIVE TERRITORY OVERLAP',\n",
       "       'Country', ' CDB', ' Citic', ' ExImBank', ' ICBC', ' others', 'BOC',\n",
       "       'CDB', 'ExImBank'],\n",
       "      dtype='object')"
      ]
     },
     "execution_count": 177,
     "metadata": {},
     "output_type": "execute_result"
    }
   ],
   "source": [
    "df.columns"
   ]
  },
  {
   "cell_type": "code",
   "execution_count": 178,
   "id": "b8e0ac4a",
   "metadata": {},
   "outputs": [
    {
     "data": {
      "text/html": [
       "<div>\n",
       "<style scoped>\n",
       "    .dataframe tbody tr th:only-of-type {\n",
       "        vertical-align: middle;\n",
       "    }\n",
       "\n",
       "    .dataframe tbody tr th {\n",
       "        vertical-align: top;\n",
       "    }\n",
       "\n",
       "    .dataframe thead th {\n",
       "        text-align: right;\n",
       "    }\n",
       "</style>\n",
       "<table border=\"1\" class=\"dataframe\">\n",
       "  <thead>\n",
       "    <tr style=\"text-align: right;\">\n",
       "      <th></th>\n",
       "      <th>YEAR</th>\n",
       "      <th>AMOUNT</th>\n",
       "      <th>BORROWER</th>\n",
       "      <th>SECTOR</th>\n",
       "      <th>SENSITIVE TERRITORY OVERLAP</th>\n",
       "      <th>Country</th>\n",
       "      <th>CDB</th>\n",
       "      <th>Citic</th>\n",
       "      <th>ExImBank</th>\n",
       "      <th>ICBC</th>\n",
       "      <th>others</th>\n",
       "      <th>BOC</th>\n",
       "      <th>CDB</th>\n",
       "      <th>ExImBank</th>\n",
       "    </tr>\n",
       "  </thead>\n",
       "  <tbody>\n",
       "    <tr>\n",
       "      <th>0</th>\n",
       "      <td>2011</td>\n",
       "      <td>50.0</td>\n",
       "      <td>Government</td>\n",
       "      <td>Transport</td>\n",
       "      <td>None Known</td>\n",
       "      <td>Angola</td>\n",
       "      <td>0</td>\n",
       "      <td>0</td>\n",
       "      <td>0</td>\n",
       "      <td>0</td>\n",
       "      <td>0</td>\n",
       "      <td>0</td>\n",
       "      <td>1</td>\n",
       "      <td>0</td>\n",
       "    </tr>\n",
       "    <tr>\n",
       "      <th>1</th>\n",
       "      <td>2009</td>\n",
       "      <td>7000.0</td>\n",
       "      <td>Petrobras</td>\n",
       "      <td>Extraction, pipelines</td>\n",
       "      <td>None Known</td>\n",
       "      <td>Brazil</td>\n",
       "      <td>0</td>\n",
       "      <td>0</td>\n",
       "      <td>0</td>\n",
       "      <td>0</td>\n",
       "      <td>0</td>\n",
       "      <td>0</td>\n",
       "      <td>1</td>\n",
       "      <td>0</td>\n",
       "    </tr>\n",
       "    <tr>\n",
       "      <th>2</th>\n",
       "      <td>2012</td>\n",
       "      <td>47.0</td>\n",
       "      <td>Government</td>\n",
       "      <td>Government</td>\n",
       "      <td>None Known</td>\n",
       "      <td>Suriname</td>\n",
       "      <td>0</td>\n",
       "      <td>0</td>\n",
       "      <td>0</td>\n",
       "      <td>0</td>\n",
       "      <td>0</td>\n",
       "      <td>0</td>\n",
       "      <td>0</td>\n",
       "      <td>1</td>\n",
       "    </tr>\n",
       "    <tr>\n",
       "      <th>3</th>\n",
       "      <td>2009</td>\n",
       "      <td>475.0</td>\n",
       "      <td>Electricite Du Cambodge</td>\n",
       "      <td>Power</td>\n",
       "      <td>None Known</td>\n",
       "      <td>Cambodia</td>\n",
       "      <td>0</td>\n",
       "      <td>0</td>\n",
       "      <td>0</td>\n",
       "      <td>0</td>\n",
       "      <td>0</td>\n",
       "      <td>0</td>\n",
       "      <td>0</td>\n",
       "      <td>1</td>\n",
       "    </tr>\n",
       "    <tr>\n",
       "      <th>4</th>\n",
       "      <td>2016</td>\n",
       "      <td>600.0</td>\n",
       "      <td>Central Bank of Kenya</td>\n",
       "      <td>Mulit-sector/discretionary</td>\n",
       "      <td>None Known</td>\n",
       "      <td>Kenya</td>\n",
       "      <td>0</td>\n",
       "      <td>0</td>\n",
       "      <td>0</td>\n",
       "      <td>0</td>\n",
       "      <td>0</td>\n",
       "      <td>0</td>\n",
       "      <td>1</td>\n",
       "      <td>0</td>\n",
       "    </tr>\n",
       "  </tbody>\n",
       "</table>\n",
       "</div>"
      ],
      "text/plain": [
       "   YEAR  AMOUNT                 BORROWER                      SECTOR  \\\n",
       "0  2011    50.0               Government                   Transport   \n",
       "1  2009  7000.0                Petrobras       Extraction, pipelines   \n",
       "2  2012    47.0               Government                  Government   \n",
       "3  2009   475.0  Electricite Du Cambodge                       Power   \n",
       "4  2016   600.0    Central Bank of Kenya  Mulit-sector/discretionary   \n",
       "\n",
       "  SENSITIVE TERRITORY OVERLAP   Country   CDB   Citic   ExImBank   ICBC  \\\n",
       "0                  None Known    Angola     0       0          0      0   \n",
       "1                  None Known    Brazil     0       0          0      0   \n",
       "2                  None Known  Suriname     0       0          0      0   \n",
       "3                  None Known  Cambodia     0       0          0      0   \n",
       "4                  None Known     Kenya     0       0          0      0   \n",
       "\n",
       "    others  BOC  CDB  ExImBank  \n",
       "0        0    0    1         0  \n",
       "1        0    0    1         0  \n",
       "2        0    0    0         1  \n",
       "3        0    0    0         1  \n",
       "4        0    0    1         0  "
      ]
     },
     "execution_count": 178,
     "metadata": {},
     "output_type": "execute_result"
    }
   ],
   "source": [
    "for i in range(len(df)):\n",
    "    if df.loc[i,' CDB'] == 1:\n",
    "        df.loc[i,'CDB'] = 1\n",
    "    if df.loc[i,' ExImBank'] == 1:\n",
    "        df.loc[i,'ExImBank'] = 1\n",
    "df.head()"
   ]
  },
  {
   "cell_type": "markdown",
   "id": "5021ca5a",
   "metadata": {},
   "source": [
    "* Some columns have a space in the string before their name.\n",
    "* ' CDB', ' Citic', ' ExImBank', ' ICBC', ' others' all these have a space befre their name.\n",
    "* For ' CDB' and ' ExImBank' columns we will make the values in 'CDB' and 'ExImBank' to 1.\n",
    "* We will drop the duplicate name columns of ' CDB' and ' ExImBank'."
   ]
  },
  {
   "cell_type": "code",
   "execution_count": 179,
   "id": "762fbd24",
   "metadata": {},
   "outputs": [
    {
     "data": {
      "text/html": [
       "<div>\n",
       "<style scoped>\n",
       "    .dataframe tbody tr th:only-of-type {\n",
       "        vertical-align: middle;\n",
       "    }\n",
       "\n",
       "    .dataframe tbody tr th {\n",
       "        vertical-align: top;\n",
       "    }\n",
       "\n",
       "    .dataframe thead th {\n",
       "        text-align: right;\n",
       "    }\n",
       "</style>\n",
       "<table border=\"1\" class=\"dataframe\">\n",
       "  <thead>\n",
       "    <tr style=\"text-align: right;\">\n",
       "      <th></th>\n",
       "      <th>YEAR</th>\n",
       "      <th>AMOUNT</th>\n",
       "      <th>BORROWER</th>\n",
       "      <th>SECTOR</th>\n",
       "      <th>SENSITIVE TERRITORY OVERLAP</th>\n",
       "      <th>Country</th>\n",
       "      <th>Citic</th>\n",
       "      <th>ICBC</th>\n",
       "      <th>others</th>\n",
       "      <th>BOC</th>\n",
       "      <th>CDB</th>\n",
       "      <th>ExImBank</th>\n",
       "    </tr>\n",
       "  </thead>\n",
       "  <tbody>\n",
       "    <tr>\n",
       "      <th>0</th>\n",
       "      <td>2011</td>\n",
       "      <td>50.0</td>\n",
       "      <td>Government</td>\n",
       "      <td>Transport</td>\n",
       "      <td>None Known</td>\n",
       "      <td>Angola</td>\n",
       "      <td>0</td>\n",
       "      <td>0</td>\n",
       "      <td>0</td>\n",
       "      <td>0</td>\n",
       "      <td>1</td>\n",
       "      <td>0</td>\n",
       "    </tr>\n",
       "    <tr>\n",
       "      <th>1</th>\n",
       "      <td>2009</td>\n",
       "      <td>7000.0</td>\n",
       "      <td>Petrobras</td>\n",
       "      <td>Extraction, pipelines</td>\n",
       "      <td>None Known</td>\n",
       "      <td>Brazil</td>\n",
       "      <td>0</td>\n",
       "      <td>0</td>\n",
       "      <td>0</td>\n",
       "      <td>0</td>\n",
       "      <td>1</td>\n",
       "      <td>0</td>\n",
       "    </tr>\n",
       "    <tr>\n",
       "      <th>2</th>\n",
       "      <td>2012</td>\n",
       "      <td>47.0</td>\n",
       "      <td>Government</td>\n",
       "      <td>Government</td>\n",
       "      <td>None Known</td>\n",
       "      <td>Suriname</td>\n",
       "      <td>0</td>\n",
       "      <td>0</td>\n",
       "      <td>0</td>\n",
       "      <td>0</td>\n",
       "      <td>0</td>\n",
       "      <td>1</td>\n",
       "    </tr>\n",
       "    <tr>\n",
       "      <th>3</th>\n",
       "      <td>2009</td>\n",
       "      <td>475.0</td>\n",
       "      <td>Electricite Du Cambodge</td>\n",
       "      <td>Power</td>\n",
       "      <td>None Known</td>\n",
       "      <td>Cambodia</td>\n",
       "      <td>0</td>\n",
       "      <td>0</td>\n",
       "      <td>0</td>\n",
       "      <td>0</td>\n",
       "      <td>0</td>\n",
       "      <td>1</td>\n",
       "    </tr>\n",
       "    <tr>\n",
       "      <th>4</th>\n",
       "      <td>2016</td>\n",
       "      <td>600.0</td>\n",
       "      <td>Central Bank of Kenya</td>\n",
       "      <td>Mulit-sector/discretionary</td>\n",
       "      <td>None Known</td>\n",
       "      <td>Kenya</td>\n",
       "      <td>0</td>\n",
       "      <td>0</td>\n",
       "      <td>0</td>\n",
       "      <td>0</td>\n",
       "      <td>1</td>\n",
       "      <td>0</td>\n",
       "    </tr>\n",
       "  </tbody>\n",
       "</table>\n",
       "</div>"
      ],
      "text/plain": [
       "   YEAR  AMOUNT                 BORROWER                      SECTOR  \\\n",
       "0  2011    50.0               Government                   Transport   \n",
       "1  2009  7000.0                Petrobras       Extraction, pipelines   \n",
       "2  2012    47.0               Government                  Government   \n",
       "3  2009   475.0  Electricite Du Cambodge                       Power   \n",
       "4  2016   600.0    Central Bank of Kenya  Mulit-sector/discretionary   \n",
       "\n",
       "  SENSITIVE TERRITORY OVERLAP   Country   Citic   ICBC   others  BOC  CDB  \\\n",
       "0                  None Known    Angola       0      0        0    0    1   \n",
       "1                  None Known    Brazil       0      0        0    0    1   \n",
       "2                  None Known  Suriname       0      0        0    0    0   \n",
       "3                  None Known  Cambodia       0      0        0    0    0   \n",
       "4                  None Known     Kenya       0      0        0    0    1   \n",
       "\n",
       "   ExImBank  \n",
       "0         0  \n",
       "1         0  \n",
       "2         1  \n",
       "3         1  \n",
       "4         0  "
      ]
     },
     "execution_count": 179,
     "metadata": {},
     "output_type": "execute_result"
    }
   ],
   "source": [
    "df.drop(columns = [' CDB', ' ExImBank'], axis = 1, inplace = True)\n",
    "df.head(5)"
   ]
  },
  {
   "cell_type": "code",
   "execution_count": 180,
   "id": "7d716867",
   "metadata": {},
   "outputs": [
    {
     "name": "stdout",
     "output_type": "stream",
     "text": [
      "1\n",
      "2\n",
      "1\n",
      "1\n",
      "232\n",
      "634\n"
     ]
    }
   ],
   "source": [
    "for i in range(6,12):\n",
    "    print(df.iloc[:,i].sum())"
   ]
  },
  {
   "cell_type": "markdown",
   "id": "edb07fc0",
   "metadata": {},
   "source": [
    "* As we can see the last 2 columns have the highest sum.\n",
    "* The last 2 columns are for 'CDB' and 'ExImBank' and they have given out significant number of loans.\n",
    "* Citic, ICBC, BOC have given out very less loans. So we can consider these columns as others."
   ]
  },
  {
   "cell_type": "code",
   "execution_count": 181,
   "id": "9a328826",
   "metadata": {},
   "outputs": [
    {
     "data": {
      "text/html": [
       "<div>\n",
       "<style scoped>\n",
       "    .dataframe tbody tr th:only-of-type {\n",
       "        vertical-align: middle;\n",
       "    }\n",
       "\n",
       "    .dataframe tbody tr th {\n",
       "        vertical-align: top;\n",
       "    }\n",
       "\n",
       "    .dataframe thead th {\n",
       "        text-align: right;\n",
       "    }\n",
       "</style>\n",
       "<table border=\"1\" class=\"dataframe\">\n",
       "  <thead>\n",
       "    <tr style=\"text-align: right;\">\n",
       "      <th></th>\n",
       "      <th>YEAR</th>\n",
       "      <th>AMOUNT</th>\n",
       "      <th>BORROWER</th>\n",
       "      <th>SECTOR</th>\n",
       "      <th>SENSITIVE TERRITORY OVERLAP</th>\n",
       "      <th>Country</th>\n",
       "      <th>Citic</th>\n",
       "      <th>ICBC</th>\n",
       "      <th>others</th>\n",
       "      <th>BOC</th>\n",
       "      <th>CDB</th>\n",
       "      <th>ExImBank</th>\n",
       "    </tr>\n",
       "  </thead>\n",
       "  <tbody>\n",
       "    <tr>\n",
       "      <th>0</th>\n",
       "      <td>2011</td>\n",
       "      <td>50.0</td>\n",
       "      <td>Government</td>\n",
       "      <td>Transport</td>\n",
       "      <td>None Known</td>\n",
       "      <td>Angola</td>\n",
       "      <td>0</td>\n",
       "      <td>0</td>\n",
       "      <td>0</td>\n",
       "      <td>0</td>\n",
       "      <td>1</td>\n",
       "      <td>0</td>\n",
       "    </tr>\n",
       "    <tr>\n",
       "      <th>1</th>\n",
       "      <td>2009</td>\n",
       "      <td>7000.0</td>\n",
       "      <td>Petrobras</td>\n",
       "      <td>Extraction, pipelines</td>\n",
       "      <td>None Known</td>\n",
       "      <td>Brazil</td>\n",
       "      <td>0</td>\n",
       "      <td>0</td>\n",
       "      <td>0</td>\n",
       "      <td>0</td>\n",
       "      <td>1</td>\n",
       "      <td>0</td>\n",
       "    </tr>\n",
       "    <tr>\n",
       "      <th>2</th>\n",
       "      <td>2012</td>\n",
       "      <td>47.0</td>\n",
       "      <td>Government</td>\n",
       "      <td>Government</td>\n",
       "      <td>None Known</td>\n",
       "      <td>Suriname</td>\n",
       "      <td>0</td>\n",
       "      <td>0</td>\n",
       "      <td>0</td>\n",
       "      <td>0</td>\n",
       "      <td>0</td>\n",
       "      <td>1</td>\n",
       "    </tr>\n",
       "    <tr>\n",
       "      <th>3</th>\n",
       "      <td>2009</td>\n",
       "      <td>475.0</td>\n",
       "      <td>Electricite Du Cambodge</td>\n",
       "      <td>Power</td>\n",
       "      <td>None Known</td>\n",
       "      <td>Cambodia</td>\n",
       "      <td>0</td>\n",
       "      <td>0</td>\n",
       "      <td>0</td>\n",
       "      <td>0</td>\n",
       "      <td>0</td>\n",
       "      <td>1</td>\n",
       "    </tr>\n",
       "    <tr>\n",
       "      <th>4</th>\n",
       "      <td>2016</td>\n",
       "      <td>600.0</td>\n",
       "      <td>Central Bank of Kenya</td>\n",
       "      <td>Mulit-sector/discretionary</td>\n",
       "      <td>None Known</td>\n",
       "      <td>Kenya</td>\n",
       "      <td>0</td>\n",
       "      <td>0</td>\n",
       "      <td>0</td>\n",
       "      <td>0</td>\n",
       "      <td>1</td>\n",
       "      <td>0</td>\n",
       "    </tr>\n",
       "  </tbody>\n",
       "</table>\n",
       "</div>"
      ],
      "text/plain": [
       "   YEAR  AMOUNT                 BORROWER                      SECTOR  \\\n",
       "0  2011    50.0               Government                   Transport   \n",
       "1  2009  7000.0                Petrobras       Extraction, pipelines   \n",
       "2  2012    47.0               Government                  Government   \n",
       "3  2009   475.0  Electricite Du Cambodge                       Power   \n",
       "4  2016   600.0    Central Bank of Kenya  Mulit-sector/discretionary   \n",
       "\n",
       "  SENSITIVE TERRITORY OVERLAP   Country   Citic   ICBC   others  BOC  CDB  \\\n",
       "0                  None Known    Angola       0      0        0    0    1   \n",
       "1                  None Known    Brazil       0      0        0    0    1   \n",
       "2                  None Known  Suriname       0      0        0    0    0   \n",
       "3                  None Known  Cambodia       0      0        0    0    0   \n",
       "4                  None Known     Kenya       0      0        0    0    1   \n",
       "\n",
       "   ExImBank  \n",
       "0         0  \n",
       "1         0  \n",
       "2         1  \n",
       "3         1  \n",
       "4         0  "
      ]
     },
     "execution_count": 181,
     "metadata": {},
     "output_type": "execute_result"
    }
   ],
   "source": [
    "for i in range(len(df)):\n",
    "    if df.loc[i, 'BOC'] == 1:\n",
    "        df.loc[i,' others'] = 1\n",
    "    if df.loc[i, ' Citic'] == 1:\n",
    "        df.loc[i,' others'] = 1\n",
    "    if df.loc[i, ' ICBC'] == 1:\n",
    "        df.loc[i,' others'] = 1\n",
    "df.head(5)"
   ]
  },
  {
   "cell_type": "code",
   "execution_count": 182,
   "id": "67330e2f",
   "metadata": {},
   "outputs": [
    {
     "data": {
      "text/html": [
       "<div>\n",
       "<style scoped>\n",
       "    .dataframe tbody tr th:only-of-type {\n",
       "        vertical-align: middle;\n",
       "    }\n",
       "\n",
       "    .dataframe tbody tr th {\n",
       "        vertical-align: top;\n",
       "    }\n",
       "\n",
       "    .dataframe thead th {\n",
       "        text-align: right;\n",
       "    }\n",
       "</style>\n",
       "<table border=\"1\" class=\"dataframe\">\n",
       "  <thead>\n",
       "    <tr style=\"text-align: right;\">\n",
       "      <th></th>\n",
       "      <th>YEAR</th>\n",
       "      <th>AMOUNT</th>\n",
       "      <th>BORROWER</th>\n",
       "      <th>SECTOR</th>\n",
       "      <th>SENSITIVE TERRITORY OVERLAP</th>\n",
       "      <th>Country</th>\n",
       "      <th>Citic</th>\n",
       "      <th>ICBC</th>\n",
       "      <th>others</th>\n",
       "      <th>BOC</th>\n",
       "      <th>CDB</th>\n",
       "      <th>ExImBank</th>\n",
       "    </tr>\n",
       "  </thead>\n",
       "  <tbody>\n",
       "    <tr>\n",
       "      <th>783</th>\n",
       "      <td>2010</td>\n",
       "      <td>273.0</td>\n",
       "      <td>Government</td>\n",
       "      <td>Transport</td>\n",
       "      <td>None Known</td>\n",
       "      <td>Argentina</td>\n",
       "      <td>1</td>\n",
       "      <td>0</td>\n",
       "      <td>1</td>\n",
       "      <td>0</td>\n",
       "      <td>1</td>\n",
       "      <td>0</td>\n",
       "    </tr>\n",
       "  </tbody>\n",
       "</table>\n",
       "</div>"
      ],
      "text/plain": [
       "     YEAR  AMOUNT    BORROWER     SECTOR SENSITIVE TERRITORY OVERLAP  \\\n",
       "783  2010   273.0  Government  Transport                  None Known   \n",
       "\n",
       "       Country   Citic   ICBC   others  BOC  CDB  ExImBank  \n",
       "783  Argentina       1      0        1    0    1         0  "
      ]
     },
     "execution_count": 182,
     "metadata": {},
     "output_type": "execute_result"
    }
   ],
   "source": [
    "df[df[' Citic'] == 1]"
   ]
  },
  {
   "cell_type": "markdown",
   "id": "fb658bd1",
   "metadata": {},
   "source": [
    "* As we can see when there was a 1 in ' Citic' column we were able to make ' others' column to 1.\n",
    "* Now we can drop ' Citic', 'ICBC' and ' BOC' columns."
   ]
  },
  {
   "cell_type": "code",
   "execution_count": 155,
   "id": "061d55fe",
   "metadata": {},
   "outputs": [
    {
     "data": {
      "text/html": [
       "<div>\n",
       "<style scoped>\n",
       "    .dataframe tbody tr th:only-of-type {\n",
       "        vertical-align: middle;\n",
       "    }\n",
       "\n",
       "    .dataframe tbody tr th {\n",
       "        vertical-align: top;\n",
       "    }\n",
       "\n",
       "    .dataframe thead th {\n",
       "        text-align: right;\n",
       "    }\n",
       "</style>\n",
       "<table border=\"1\" class=\"dataframe\">\n",
       "  <thead>\n",
       "    <tr style=\"text-align: right;\">\n",
       "      <th></th>\n",
       "      <th>YEAR</th>\n",
       "      <th>AMOUNT</th>\n",
       "      <th>BORROWER</th>\n",
       "      <th>SECTOR</th>\n",
       "      <th>SENSITIVE TERRITORY OVERLAP</th>\n",
       "      <th>Country</th>\n",
       "      <th>others</th>\n",
       "      <th>CDB</th>\n",
       "      <th>ExImBank</th>\n",
       "    </tr>\n",
       "  </thead>\n",
       "  <tbody>\n",
       "    <tr>\n",
       "      <th>0</th>\n",
       "      <td>2011</td>\n",
       "      <td>50.0</td>\n",
       "      <td>Government</td>\n",
       "      <td>Transport</td>\n",
       "      <td>None Known</td>\n",
       "      <td>Angola</td>\n",
       "      <td>0</td>\n",
       "      <td>1</td>\n",
       "      <td>0</td>\n",
       "    </tr>\n",
       "    <tr>\n",
       "      <th>1</th>\n",
       "      <td>2009</td>\n",
       "      <td>7000.0</td>\n",
       "      <td>Petrobras</td>\n",
       "      <td>Extraction, pipelines</td>\n",
       "      <td>None Known</td>\n",
       "      <td>Brazil</td>\n",
       "      <td>0</td>\n",
       "      <td>1</td>\n",
       "      <td>0</td>\n",
       "    </tr>\n",
       "    <tr>\n",
       "      <th>2</th>\n",
       "      <td>2012</td>\n",
       "      <td>47.0</td>\n",
       "      <td>Government</td>\n",
       "      <td>Government</td>\n",
       "      <td>None Known</td>\n",
       "      <td>Suriname</td>\n",
       "      <td>0</td>\n",
       "      <td>0</td>\n",
       "      <td>1</td>\n",
       "    </tr>\n",
       "    <tr>\n",
       "      <th>3</th>\n",
       "      <td>2009</td>\n",
       "      <td>475.0</td>\n",
       "      <td>Electricite Du Cambodge</td>\n",
       "      <td>Power</td>\n",
       "      <td>None Known</td>\n",
       "      <td>Cambodia</td>\n",
       "      <td>0</td>\n",
       "      <td>0</td>\n",
       "      <td>1</td>\n",
       "    </tr>\n",
       "    <tr>\n",
       "      <th>4</th>\n",
       "      <td>2016</td>\n",
       "      <td>600.0</td>\n",
       "      <td>Central Bank of Kenya</td>\n",
       "      <td>Mulit-sector/discretionary</td>\n",
       "      <td>None Known</td>\n",
       "      <td>Kenya</td>\n",
       "      <td>0</td>\n",
       "      <td>1</td>\n",
       "      <td>0</td>\n",
       "    </tr>\n",
       "  </tbody>\n",
       "</table>\n",
       "</div>"
      ],
      "text/plain": [
       "   YEAR  AMOUNT                 BORROWER                      SECTOR  \\\n",
       "0  2011    50.0               Government                   Transport   \n",
       "1  2009  7000.0                Petrobras       Extraction, pipelines   \n",
       "2  2012    47.0               Government                  Government   \n",
       "3  2009   475.0  Electricite Du Cambodge                       Power   \n",
       "4  2016   600.0    Central Bank of Kenya  Mulit-sector/discretionary   \n",
       "\n",
       "  SENSITIVE TERRITORY OVERLAP   Country   others  CDB  ExImBank  \n",
       "0                  None Known    Angola        0    1         0  \n",
       "1                  None Known    Brazil        0    1         0  \n",
       "2                  None Known  Suriname        0    0         1  \n",
       "3                  None Known  Cambodia        0    0         1  \n",
       "4                  None Known     Kenya        0    1         0  "
      ]
     },
     "execution_count": 155,
     "metadata": {},
     "output_type": "execute_result"
    }
   ],
   "source": [
    "df.drop(columns = [' Citic', ' ICBC', 'BOC'], axis = 1, inplace = True)\n",
    "df.head(5)"
   ]
  },
  {
   "cell_type": "markdown",
   "id": "16c261c3",
   "metadata": {},
   "source": [
    "* As we can see when there was a 1 in ' Citic' column we were able to make ' others' column to 1.\n",
    "* Now we can drop ' Citic', 'ICBC' and ' BOC' columns."
   ]
  },
  {
   "cell_type": "code",
   "execution_count": 71,
   "id": "c1aac370",
   "metadata": {},
   "outputs": [
    {
     "data": {
      "text/html": [
       "<div>\n",
       "<style scoped>\n",
       "    .dataframe tbody tr th:only-of-type {\n",
       "        vertical-align: middle;\n",
       "    }\n",
       "\n",
       "    .dataframe tbody tr th {\n",
       "        vertical-align: top;\n",
       "    }\n",
       "\n",
       "    .dataframe thead th {\n",
       "        text-align: right;\n",
       "    }\n",
       "</style>\n",
       "<table border=\"1\" class=\"dataframe\">\n",
       "  <thead>\n",
       "    <tr style=\"text-align: right;\">\n",
       "      <th></th>\n",
       "      <th>YEAR</th>\n",
       "      <th>AMOUNT</th>\n",
       "      <th>BORROWER</th>\n",
       "      <th>SECTOR</th>\n",
       "      <th>SENSITIVE TERRITORY OVERLAP</th>\n",
       "      <th>Country</th>\n",
       "      <th>Other_Lenders</th>\n",
       "      <th>CDB</th>\n",
       "      <th>ExImBank</th>\n",
       "    </tr>\n",
       "  </thead>\n",
       "  <tbody>\n",
       "    <tr>\n",
       "      <th>0</th>\n",
       "      <td>2011</td>\n",
       "      <td>50.0</td>\n",
       "      <td>Government</td>\n",
       "      <td>Transport</td>\n",
       "      <td>None Known</td>\n",
       "      <td>Angola</td>\n",
       "      <td>0</td>\n",
       "      <td>1</td>\n",
       "      <td>0</td>\n",
       "    </tr>\n",
       "    <tr>\n",
       "      <th>1</th>\n",
       "      <td>2009</td>\n",
       "      <td>7000.0</td>\n",
       "      <td>Petrobras</td>\n",
       "      <td>Extraction, pipelines</td>\n",
       "      <td>None Known</td>\n",
       "      <td>Brazil</td>\n",
       "      <td>0</td>\n",
       "      <td>1</td>\n",
       "      <td>0</td>\n",
       "    </tr>\n",
       "    <tr>\n",
       "      <th>2</th>\n",
       "      <td>2012</td>\n",
       "      <td>47.0</td>\n",
       "      <td>Government</td>\n",
       "      <td>Government</td>\n",
       "      <td>None Known</td>\n",
       "      <td>Suriname</td>\n",
       "      <td>0</td>\n",
       "      <td>0</td>\n",
       "      <td>1</td>\n",
       "    </tr>\n",
       "    <tr>\n",
       "      <th>3</th>\n",
       "      <td>2009</td>\n",
       "      <td>475.0</td>\n",
       "      <td>Electricite Du Cambodge</td>\n",
       "      <td>Power</td>\n",
       "      <td>None Known</td>\n",
       "      <td>Cambodia</td>\n",
       "      <td>0</td>\n",
       "      <td>0</td>\n",
       "      <td>1</td>\n",
       "    </tr>\n",
       "    <tr>\n",
       "      <th>4</th>\n",
       "      <td>2016</td>\n",
       "      <td>600.0</td>\n",
       "      <td>Central Bank of Kenya</td>\n",
       "      <td>Mulit-sector/discretionary</td>\n",
       "      <td>None Known</td>\n",
       "      <td>Kenya</td>\n",
       "      <td>0</td>\n",
       "      <td>1</td>\n",
       "      <td>0</td>\n",
       "    </tr>\n",
       "  </tbody>\n",
       "</table>\n",
       "</div>"
      ],
      "text/plain": [
       "   YEAR  AMOUNT                 BORROWER                      SECTOR  \\\n",
       "0  2011    50.0               Government                   Transport   \n",
       "1  2009  7000.0                Petrobras       Extraction, pipelines   \n",
       "2  2012    47.0               Government                  Government   \n",
       "3  2009   475.0  Electricite Du Cambodge                       Power   \n",
       "4  2016   600.0    Central Bank of Kenya  Mulit-sector/discretionary   \n",
       "\n",
       "  SENSITIVE TERRITORY OVERLAP   Country  Other_Lenders  CDB  ExImBank  \n",
       "0                  None Known    Angola              0    1         0  \n",
       "1                  None Known    Brazil              0    1         0  \n",
       "2                  None Known  Suriname              0    0         1  \n",
       "3                  None Known  Cambodia              0    0         1  \n",
       "4                  None Known     Kenya              0    1         0  "
      ]
     },
     "execution_count": 71,
     "metadata": {},
     "output_type": "execute_result"
    }
   ],
   "source": [
    "df.rename(columns = {' others':'Other_Lenders'}, inplace = True)\n",
    "df.head()"
   ]
  },
  {
   "cell_type": "code",
   "execution_count": 73,
   "id": "1d5e3992",
   "metadata": {},
   "outputs": [
    {
     "data": {
      "text/plain": [
       "Transport                     316\n",
       "Power                         203\n",
       "Government                    138\n",
       "Telecom                        63\n",
       "Extraction, pipelines          38\n",
       "Mulit-sector/discretionary     30\n",
       "Other construction             29\n",
       "Agriculture, food              27\n",
       "Manufacturing                  12\n",
       "fTransport                      1\n",
       "Name: SECTOR, dtype: int64"
      ]
     },
     "execution_count": 73,
     "metadata": {},
     "output_type": "execute_result"
    }
   ],
   "source": [
    "df['SECTOR'].value_counts()"
   ]
  },
  {
   "cell_type": "code",
   "execution_count": 74,
   "id": "c3540533",
   "metadata": {},
   "outputs": [],
   "source": [
    "df['SECTOR'] = df['SECTOR'].str.replace('fTransport','Transport')\n",
    "df['SECTOR'] = df['SECTOR'].str.replace('Extraction, pipelines','Extraction and Pipelines')\n",
    "df['SECTOR'] = df['SECTOR'].str.replace('Agriculture, food','Agricultiure and Food')\n",
    "df['SECTOR'] = df['SECTOR'].str.replace('/discretionary',' and discretionary')"
   ]
  },
  {
   "cell_type": "code",
   "execution_count": 75,
   "id": "bf7b7186",
   "metadata": {},
   "outputs": [
    {
     "data": {
      "text/plain": [
       "Transport                         317\n",
       "Power                             203\n",
       "Government                        138\n",
       "Telecom                            63\n",
       "Extraction and Pipelines           38\n",
       "Mulit-sector and discretionary     30\n",
       "Other construction                 29\n",
       "Agricultiure and Food              27\n",
       "Manufacturing                      12\n",
       "Name: SECTOR, dtype: int64"
      ]
     },
     "execution_count": 75,
     "metadata": {},
     "output_type": "execute_result"
    }
   ],
   "source": [
    "df['SECTOR'].value_counts()"
   ]
  },
  {
   "cell_type": "markdown",
   "id": "1f8d9be9",
   "metadata": {},
   "source": [
    "* Here fTransport has only one value. So we can add that value to Transport.\n",
    "* We also can rename Extraction, pipelines to 'extraction and pipelines' and 'Agriculture, food' to 'agriculture and food'.\n",
    "* 'Multi-sector/discretionary' can be renamed to 'Multisector and discretionary'."
   ]
  },
  {
   "cell_type": "code",
   "execution_count": 76,
   "id": "375bf3dc",
   "metadata": {},
   "outputs": [
    {
     "data": {
      "text/plain": [
       "Government                                       677\n",
       "Perusahaan Listrik Negara (PLN)                   12\n",
       "Petroecuador                                       7\n",
       "Petróleos de Venezuela, S.A. (PDVSA)               6\n",
       "Petrobras                                          5\n",
       "                                                ... \n",
       "Zambia Electricity Supply Corporation Limited      1\n",
       "Pakistan National Highway Authority                1\n",
       "African Export-Import Bank                         1\n",
       "Azcuba                                             1\n",
       "Bangladesh Chemical Industries Corporation         1\n",
       "Name: BORROWER, Length: 120, dtype: int64"
      ]
     },
     "execution_count": 76,
     "metadata": {},
     "output_type": "execute_result"
    }
   ],
   "source": [
    "df['BORROWER'].value_counts()"
   ]
  },
  {
   "cell_type": "markdown",
   "id": "71154bd7",
   "metadata": {},
   "source": [
    "* Our next step is to change the 'Borrower' column.\n",
    "* For that we need to check the unique values and value counts."
   ]
  },
  {
   "cell_type": "code",
   "execution_count": 77,
   "id": "79a67549",
   "metadata": {},
   "outputs": [],
   "source": [
    "for i in range(len(df)):\n",
    "    if ('Government' in df.loc[i,'BORROWER']) or ('BORROWER' in df.loc[i,'BORROWER']) or ('Govt.' in df.loc[i,'BORROWER']):\n",
    "        df.loc[i,'Borrower_Gov'] = 1\n",
    "    else:\n",
    "        df.loc[i,'Borrower_Gov'] = 0"
   ]
  },
  {
   "cell_type": "code",
   "execution_count": 79,
   "id": "2e18e082",
   "metadata": {},
   "outputs": [
    {
     "data": {
      "text/plain": [
       "1.0    679\n",
       "0.0    178\n",
       "Name: Borrower_Gov, dtype: int64"
      ]
     },
     "execution_count": 79,
     "metadata": {},
     "output_type": "execute_result"
    }
   ],
   "source": [
    "df['Borrower_Gov'].value_counts()"
   ]
  },
  {
   "cell_type": "markdown",
   "id": "d017fe0b",
   "metadata": {},
   "source": [
    "* As we have seen 'Government has the highest value counts.\n",
    "* But that is not all, in unique values there are some spelling mistakes like, Government is spelled as 'Goverment'.\n",
    "* Then there are local governments like ' Madang Provincial Govt.', 'Buenos Aires local government','Government of Punjab'.\n",
    "* Let us make a new column which will only tell us if the borrower is the government of the country or no.\n",
    "* We will then drop the borrower column."
   ]
  },
  {
   "cell_type": "code",
   "execution_count": 81,
   "id": "a33373d9",
   "metadata": {},
   "outputs": [
    {
     "data": {
      "text/html": [
       "<div>\n",
       "<style scoped>\n",
       "    .dataframe tbody tr th:only-of-type {\n",
       "        vertical-align: middle;\n",
       "    }\n",
       "\n",
       "    .dataframe tbody tr th {\n",
       "        vertical-align: top;\n",
       "    }\n",
       "\n",
       "    .dataframe thead th {\n",
       "        text-align: right;\n",
       "    }\n",
       "</style>\n",
       "<table border=\"1\" class=\"dataframe\">\n",
       "  <thead>\n",
       "    <tr style=\"text-align: right;\">\n",
       "      <th></th>\n",
       "      <th>YEAR</th>\n",
       "      <th>AMOUNT</th>\n",
       "      <th>SECTOR</th>\n",
       "      <th>SENSITIVE TERRITORY OVERLAP</th>\n",
       "      <th>Country</th>\n",
       "      <th>Other_Lenders</th>\n",
       "      <th>CDB</th>\n",
       "      <th>ExImBank</th>\n",
       "      <th>Borrower_Gov</th>\n",
       "    </tr>\n",
       "  </thead>\n",
       "  <tbody>\n",
       "    <tr>\n",
       "      <th>0</th>\n",
       "      <td>2011</td>\n",
       "      <td>50.0</td>\n",
       "      <td>Transport</td>\n",
       "      <td>None Known</td>\n",
       "      <td>Angola</td>\n",
       "      <td>0</td>\n",
       "      <td>1</td>\n",
       "      <td>0</td>\n",
       "      <td>1.0</td>\n",
       "    </tr>\n",
       "    <tr>\n",
       "      <th>1</th>\n",
       "      <td>2009</td>\n",
       "      <td>7000.0</td>\n",
       "      <td>Extraction and Pipelines</td>\n",
       "      <td>None Known</td>\n",
       "      <td>Brazil</td>\n",
       "      <td>0</td>\n",
       "      <td>1</td>\n",
       "      <td>0</td>\n",
       "      <td>0.0</td>\n",
       "    </tr>\n",
       "    <tr>\n",
       "      <th>2</th>\n",
       "      <td>2012</td>\n",
       "      <td>47.0</td>\n",
       "      <td>Government</td>\n",
       "      <td>None Known</td>\n",
       "      <td>Suriname</td>\n",
       "      <td>0</td>\n",
       "      <td>0</td>\n",
       "      <td>1</td>\n",
       "      <td>1.0</td>\n",
       "    </tr>\n",
       "    <tr>\n",
       "      <th>3</th>\n",
       "      <td>2009</td>\n",
       "      <td>475.0</td>\n",
       "      <td>Power</td>\n",
       "      <td>None Known</td>\n",
       "      <td>Cambodia</td>\n",
       "      <td>0</td>\n",
       "      <td>0</td>\n",
       "      <td>1</td>\n",
       "      <td>0.0</td>\n",
       "    </tr>\n",
       "    <tr>\n",
       "      <th>4</th>\n",
       "      <td>2016</td>\n",
       "      <td>600.0</td>\n",
       "      <td>Mulit-sector and discretionary</td>\n",
       "      <td>None Known</td>\n",
       "      <td>Kenya</td>\n",
       "      <td>0</td>\n",
       "      <td>1</td>\n",
       "      <td>0</td>\n",
       "      <td>0.0</td>\n",
       "    </tr>\n",
       "  </tbody>\n",
       "</table>\n",
       "</div>"
      ],
      "text/plain": [
       "   YEAR  AMOUNT                          SECTOR SENSITIVE TERRITORY OVERLAP  \\\n",
       "0  2011    50.0                       Transport                  None Known   \n",
       "1  2009  7000.0        Extraction and Pipelines                  None Known   \n",
       "2  2012    47.0                      Government                  None Known   \n",
       "3  2009   475.0                           Power                  None Known   \n",
       "4  2016   600.0  Mulit-sector and discretionary                  None Known   \n",
       "\n",
       "    Country  Other_Lenders  CDB  ExImBank  Borrower_Gov  \n",
       "0    Angola              0    1         0           1.0  \n",
       "1    Brazil              0    1         0           0.0  \n",
       "2  Suriname              0    0         1           1.0  \n",
       "3  Cambodia              0    0         1           0.0  \n",
       "4     Kenya              0    1         0           0.0  "
      ]
     },
     "execution_count": 81,
     "metadata": {},
     "output_type": "execute_result"
    }
   ],
   "source": [
    "df.drop('BORROWER', inplace = True, axis = 1)\n",
    "df.head()"
   ]
  },
  {
   "cell_type": "code",
   "execution_count": 86,
   "id": "6080ad57",
   "metadata": {},
   "outputs": [
    {
     "data": {
      "text/plain": [
       "<AxesSubplot:xlabel='AMOUNT', ylabel='Count'>"
      ]
     },
     "execution_count": 86,
     "metadata": {},
     "output_type": "execute_result"
    },
    {
     "data": {
      "image/png": "[encoded data removed]",
      "text/plain": [
       "<Figure size 1152x576 with 1 Axes>"
      ]
     },
     "metadata": {
      "needs_background": "light"
     },
     "output_type": "display_data"
    }
   ],
   "source": [
    "plt.figure(figsize = (16,8))\n",
    "sns.histplot(data = df, x = 'AMOUNT', bins = 100, color = 'Orange')"
   ]
  },
  {
   "cell_type": "markdown",
   "id": "a13eefc7",
   "metadata": {},
   "source": [
    "* We see most of the values are in the range of 0 Millions to 2000 Millions.\n",
    "* So let us zoom into that range and plot a seperate histogram for it."
   ]
  },
  {
   "cell_type": "code",
   "execution_count": 88,
   "id": "d30a7b69",
   "metadata": {},
   "outputs": [
    {
     "data": {
      "text/plain": [
       "<AxesSubplot:xlabel='AMOUNT', ylabel='Count'>"
      ]
     },
     "execution_count": 88,
     "metadata": {},
     "output_type": "execute_result"
    },
    {
     "data": {
      "image/png": "[encoded data removed]",
      "text/plain": [
       "<Figure size 1152x576 with 1 Axes>"
      ]
     },
     "metadata": {
      "needs_background": "light"
     },
     "output_type": "display_data"
    }
   ],
   "source": [
    "plt.figure(figsize = (16,8))\n",
    "g = sns.histplot(data = df, x = 'AMOUNT', bins = 100, color = 'Orange')\n",
    "g.set(xlim = (0,2000))\n",
    "g"
   ]
  },
  {
   "cell_type": "markdown",
   "id": "f7e880ad",
   "metadata": {},
   "source": [
    "* From the above histogram we can say that the most number of loans were given for amounts upto 200 Millions."
   ]
  },
  {
   "cell_type": "code",
   "execution_count": 95,
   "id": "d484ead3",
   "metadata": {},
   "outputs": [
    {
     "data": {
      "text/plain": [
       "<AxesSubplot:xlabel='YEAR', ylabel='count'>"
      ]
     },
     "execution_count": 95,
     "metadata": {},
     "output_type": "execute_result"
    },
    {
     "data": {
      "image/png": "[encoded data removed]",
      "text/plain": [
       "<Figure size 1152x576 with 1 Axes>"
      ]
     },
     "metadata": {
      "needs_background": "light"
     },
     "output_type": "display_data"
    }
   ],
   "source": [
    "plt.figure(figsize = (16,8))\n",
    "sns.countplot(x = 'YEAR', data = df)"
   ]
  },
  {
   "cell_type": "markdown",
   "id": "7b6d030a",
   "metadata": {},
   "source": [
    "* Now let us visualize how many loans were taken in which year. For this we can use countplot from the seaborn library.\n",
    "* Next, let us see how much amount of loans were taken in any year."
   ]
  },
  {
   "cell_type": "code",
   "execution_count": 99,
   "id": "45522d81",
   "metadata": {},
   "outputs": [
    {
     "data": {
      "text/html": [
       "<div>\n",
       "<style scoped>\n",
       "    .dataframe tbody tr th:only-of-type {\n",
       "        vertical-align: middle;\n",
       "    }\n",
       "\n",
       "    .dataframe tbody tr th {\n",
       "        vertical-align: top;\n",
       "    }\n",
       "\n",
       "    .dataframe thead th {\n",
       "        text-align: right;\n",
       "    }\n",
       "</style>\n",
       "<table border=\"1\" class=\"dataframe\">\n",
       "  <thead>\n",
       "    <tr style=\"text-align: right;\">\n",
       "      <th></th>\n",
       "      <th>AMOUNT</th>\n",
       "    </tr>\n",
       "    <tr>\n",
       "      <th>YEAR</th>\n",
       "      <th></th>\n",
       "    </tr>\n",
       "  </thead>\n",
       "  <tbody>\n",
       "    <tr>\n",
       "      <th>2008</th>\n",
       "      <td>7565.0</td>\n",
       "    </tr>\n",
       "    <tr>\n",
       "      <th>2009</th>\n",
       "      <td>62400.0</td>\n",
       "    </tr>\n",
       "    <tr>\n",
       "      <th>2010</th>\n",
       "      <td>41235.0</td>\n",
       "    </tr>\n",
       "    <tr>\n",
       "      <th>2011</th>\n",
       "      <td>33949.0</td>\n",
       "    </tr>\n",
       "    <tr>\n",
       "      <th>2012</th>\n",
       "      <td>34886.0</td>\n",
       "    </tr>\n",
       "    <tr>\n",
       "      <th>2013</th>\n",
       "      <td>41852.0</td>\n",
       "    </tr>\n",
       "    <tr>\n",
       "      <th>2014</th>\n",
       "      <td>48391.0</td>\n",
       "    </tr>\n",
       "    <tr>\n",
       "      <th>2015</th>\n",
       "      <td>51104.0</td>\n",
       "    </tr>\n",
       "    <tr>\n",
       "      <th>2016</th>\n",
       "      <td>75001.0</td>\n",
       "    </tr>\n",
       "    <tr>\n",
       "      <th>2017</th>\n",
       "      <td>49241.0</td>\n",
       "    </tr>\n",
       "    <tr>\n",
       "      <th>2018</th>\n",
       "      <td>12583.0</td>\n",
       "    </tr>\n",
       "    <tr>\n",
       "      <th>2019</th>\n",
       "      <td>3940.0</td>\n",
       "    </tr>\n",
       "  </tbody>\n",
       "</table>\n",
       "</div>"
      ],
      "text/plain": [
       "       AMOUNT\n",
       "YEAR         \n",
       "2008   7565.0\n",
       "2009  62400.0\n",
       "2010  41235.0\n",
       "2011  33949.0\n",
       "2012  34886.0\n",
       "2013  41852.0\n",
       "2014  48391.0\n",
       "2015  51104.0\n",
       "2016  75001.0\n",
       "2017  49241.0\n",
       "2018  12583.0\n",
       "2019   3940.0"
      ]
     },
     "execution_count": 99,
     "metadata": {},
     "output_type": "execute_result"
    }
   ],
   "source": [
    "Y = df[[\"YEAR\", \"AMOUNT\"]].groupby(\"YEAR\").sum()\n",
    "Y"
   ]
  },
  {
   "cell_type": "code",
   "execution_count": 100,
   "id": "0db17f2c",
   "metadata": {},
   "outputs": [
    {
     "data": {
      "text/plain": [
       "<AxesSubplot:xlabel='YEAR'>"
      ]
     },
     "execution_count": 100,
     "metadata": {},
     "output_type": "execute_result"
    },
    {
     "data": {
      "image/png": "[encoded data removed]",
      "text/plain": [
       "<Figure size 1152x576 with 1 Axes>"
      ]
     },
     "metadata": {
      "needs_background": "light"
     },
     "output_type": "display_data"
    }
   ],
   "source": [
    "Y.plot(kind = 'bar', color = 'Orange',figsize = (16,8))"
   ]
  },
  {
   "cell_type": "markdown",
   "id": "ed115bfd",
   "metadata": {},
   "source": [
    "- The highest amount of loan were given in 2016.\n",
    "- The lowest amount of loan were given in 2019."
   ]
  },
  {
   "cell_type": "code",
   "execution_count": 102,
   "id": "d2b2b364",
   "metadata": {},
   "outputs": [
    {
     "data": {
      "text/html": [
       "<div>\n",
       "<style scoped>\n",
       "    .dataframe tbody tr th:only-of-type {\n",
       "        vertical-align: middle;\n",
       "    }\n",
       "\n",
       "    .dataframe tbody tr th {\n",
       "        vertical-align: top;\n",
       "    }\n",
       "\n",
       "    .dataframe thead th {\n",
       "        text-align: right;\n",
       "    }\n",
       "</style>\n",
       "<table border=\"1\" class=\"dataframe\">\n",
       "  <thead>\n",
       "    <tr style=\"text-align: right;\">\n",
       "      <th></th>\n",
       "      <th>AMOUNT</th>\n",
       "      <th>Country</th>\n",
       "    </tr>\n",
       "    <tr>\n",
       "      <th>Country</th>\n",
       "      <th></th>\n",
       "      <th></th>\n",
       "    </tr>\n",
       "  </thead>\n",
       "  <tbody>\n",
       "    <tr>\n",
       "      <th>Angola</th>\n",
       "      <td>29640.0</td>\n",
       "      <td>115</td>\n",
       "    </tr>\n",
       "    <tr>\n",
       "      <th>Antigua &amp; Barbuda</th>\n",
       "      <td>128.0</td>\n",
       "      <td>2</td>\n",
       "    </tr>\n",
       "    <tr>\n",
       "      <th>Argentina</th>\n",
       "      <td>17083.0</td>\n",
       "      <td>11</td>\n",
       "    </tr>\n",
       "    <tr>\n",
       "      <th>Bahamas</th>\n",
       "      <td>99.0</td>\n",
       "      <td>2</td>\n",
       "    </tr>\n",
       "    <tr>\n",
       "      <th>Bangladesh</th>\n",
       "      <td>11089.0</td>\n",
       "      <td>17</td>\n",
       "    </tr>\n",
       "  </tbody>\n",
       "</table>\n",
       "</div>"
      ],
      "text/plain": [
       "                    AMOUNT  Country\n",
       "Country                            \n",
       "Angola             29640.0      115\n",
       "Antigua & Barbuda    128.0        2\n",
       "Argentina          17083.0       11\n",
       "Bahamas               99.0        2\n",
       "Bangladesh         11089.0       17"
      ]
     },
     "execution_count": 102,
     "metadata": {},
     "output_type": "execute_result"
    }
   ],
   "source": [
    "loan_country = df[['Country', 'AMOUNT']].groupby('Country').agg({'AMOUNT':'sum', 'Country':'count'})\n",
    "loan_country.head()"
   ]
  },
  {
   "cell_type": "code",
   "execution_count": 105,
   "id": "5465147e",
   "metadata": {},
   "outputs": [],
   "source": [
    "loan_country.rename(columns = {'AMOUNT': 'Amount','Country': 'Count'}, inplace = True)"
   ]
  },
  {
   "cell_type": "code",
   "execution_count": 107,
   "id": "fe259c7d",
   "metadata": {},
   "outputs": [
    {
     "data": {
      "text/html": [
       "<div>\n",
       "<style scoped>\n",
       "    .dataframe tbody tr th:only-of-type {\n",
       "        vertical-align: middle;\n",
       "    }\n",
       "\n",
       "    .dataframe tbody tr th {\n",
       "        vertical-align: top;\n",
       "    }\n",
       "\n",
       "    .dataframe thead th {\n",
       "        text-align: right;\n",
       "    }\n",
       "</style>\n",
       "<table border=\"1\" class=\"dataframe\">\n",
       "  <thead>\n",
       "    <tr style=\"text-align: right;\">\n",
       "      <th></th>\n",
       "      <th>Amount</th>\n",
       "      <th>Count</th>\n",
       "    </tr>\n",
       "    <tr>\n",
       "      <th>Country</th>\n",
       "      <th></th>\n",
       "      <th></th>\n",
       "    </tr>\n",
       "  </thead>\n",
       "  <tbody>\n",
       "    <tr>\n",
       "      <th>Venezuela</th>\n",
       "      <td>57691.0</td>\n",
       "      <td>16</td>\n",
       "    </tr>\n",
       "    <tr>\n",
       "      <th>Pakistan</th>\n",
       "      <td>39853.0</td>\n",
       "      <td>23</td>\n",
       "    </tr>\n",
       "    <tr>\n",
       "      <th>Russian Federation</th>\n",
       "      <td>37045.0</td>\n",
       "      <td>8</td>\n",
       "    </tr>\n",
       "    <tr>\n",
       "      <th>Angola</th>\n",
       "      <td>29640.0</td>\n",
       "      <td>115</td>\n",
       "    </tr>\n",
       "    <tr>\n",
       "      <th>Brazil</th>\n",
       "      <td>28156.0</td>\n",
       "      <td>10</td>\n",
       "    </tr>\n",
       "  </tbody>\n",
       "</table>\n",
       "</div>"
      ],
      "text/plain": [
       "                     Amount  Count\n",
       "Country                           \n",
       "Venezuela           57691.0     16\n",
       "Pakistan            39853.0     23\n",
       "Russian Federation  37045.0      8\n",
       "Angola              29640.0    115\n",
       "Brazil              28156.0     10"
      ]
     },
     "execution_count": 107,
     "metadata": {},
     "output_type": "execute_result"
    }
   ],
   "source": [
    "loan_country.sort_values('Amount', ascending = False).head(5)"
   ]
  },
  {
   "cell_type": "code",
   "execution_count": 108,
   "id": "2949bc1a",
   "metadata": {},
   "outputs": [
    {
     "data": {
      "text/plain": [
       "<AxesSubplot:ylabel='Country'>"
      ]
     },
     "execution_count": 108,
     "metadata": {},
     "output_type": "execute_result"
    },
    {
     "data": {
      "image/png": "[encoded data removed]",
      "text/plain": [
       "<Figure size 1152x1728 with 1 Axes>"
      ]
     },
     "metadata": {
      "needs_background": "light"
     },
     "output_type": "display_data"
    }
   ],
   "source": [
    "loan_country.sort_values('Count').plot(y = 'Count',kind = 'barh', figsize = (16,24), color = 'Green')"
   ]
  },
  {
   "cell_type": "markdown",
   "id": "75f30744",
   "metadata": {},
   "source": [
    "- From the above plot we can conclude country Angola have taken loan for most of the time"
   ]
  },
  {
   "cell_type": "code",
   "execution_count": 109,
   "id": "85ce8fb4",
   "metadata": {},
   "outputs": [
    {
     "data": {
      "text/plain": [
       "<AxesSubplot:ylabel='Country'>"
      ]
     },
     "execution_count": 109,
     "metadata": {},
     "output_type": "execute_result"
    },
    {
     "data": {
      "image/png": "[encoded data removed]",
      "text/plain": [
       "<Figure size 1152x1728 with 1 Axes>"
      ]
     },
     "metadata": {
      "needs_background": "light"
     },
     "output_type": "display_data"
    }
   ],
   "source": [
    "loan_country.sort_values('Amount', ascending = True).plot(y = 'Amount', kind = 'barh', figsize = (16,24), color = 'Green')"
   ]
  },
  {
   "cell_type": "markdown",
   "id": "7253e686",
   "metadata": {},
   "source": [
    "- And Venezuela has taken highest amount of loan."
   ]
  },
  {
   "cell_type": "code",
   "execution_count": 110,
   "id": "fa3d80d8",
   "metadata": {},
   "outputs": [
    {
     "data": {
      "image/png": "[encoded data removed]",
      "text/plain": [
       "<Figure size 576x576 with 1 Axes>"
      ]
     },
     "metadata": {},
     "output_type": "display_data"
    }
   ],
   "source": [
    "a = df['SECTOR'].value_counts()\n",
    "plt.figure(figsize = (8,8))\n",
    "plt.pie(x = a, data = df, labels= a.index,autopct='%.0f%%')\n",
    "plt.show()"
   ]
  },
  {
   "cell_type": "markdown",
   "id": "019143bb",
   "metadata": {},
   "source": [
    "- From the above diagram we can conclude most of the loan were taken for Transport sector.\n",
    "- And less loan were taken for Manufacturing sector."
   ]
  },
  {
   "cell_type": "code",
   "execution_count": 112,
   "id": "bbed14fc",
   "metadata": {},
   "outputs": [],
   "source": [
    "loan_per_sector = df[[\"SECTOR\", \"AMOUNT\"]].groupby(\"SECTOR\").agg({'AMOUNT':'sum', 'SECTOR':'count'})"
   ]
  },
  {
   "cell_type": "code",
   "execution_count": 113,
   "id": "6f8651fe",
   "metadata": {},
   "outputs": [
    {
     "data": {
      "text/html": [
       "<div>\n",
       "<style scoped>\n",
       "    .dataframe tbody tr th:only-of-type {\n",
       "        vertical-align: middle;\n",
       "    }\n",
       "\n",
       "    .dataframe tbody tr th {\n",
       "        vertical-align: top;\n",
       "    }\n",
       "\n",
       "    .dataframe thead th {\n",
       "        text-align: right;\n",
       "    }\n",
       "</style>\n",
       "<table border=\"1\" class=\"dataframe\">\n",
       "  <thead>\n",
       "    <tr style=\"text-align: right;\">\n",
       "      <th></th>\n",
       "      <th>AMOUNT</th>\n",
       "      <th>SECTOR</th>\n",
       "    </tr>\n",
       "    <tr>\n",
       "      <th>SECTOR</th>\n",
       "      <th></th>\n",
       "      <th></th>\n",
       "    </tr>\n",
       "  </thead>\n",
       "  <tbody>\n",
       "    <tr>\n",
       "      <th>Agricultiure and Food</th>\n",
       "      <td>7526.0</td>\n",
       "      <td>27</td>\n",
       "    </tr>\n",
       "    <tr>\n",
       "      <th>Extraction and Pipelines</th>\n",
       "      <td>114187.0</td>\n",
       "      <td>38</td>\n",
       "    </tr>\n",
       "    <tr>\n",
       "      <th>Government</th>\n",
       "      <td>23120.0</td>\n",
       "      <td>138</td>\n",
       "    </tr>\n",
       "    <tr>\n",
       "      <th>Manufacturing</th>\n",
       "      <td>8747.0</td>\n",
       "      <td>12</td>\n",
       "    </tr>\n",
       "    <tr>\n",
       "      <th>Mulit-sector and discretionary</th>\n",
       "      <td>59156.0</td>\n",
       "      <td>30</td>\n",
       "    </tr>\n",
       "    <tr>\n",
       "      <th>Other construction</th>\n",
       "      <td>22613.0</td>\n",
       "      <td>29</td>\n",
       "    </tr>\n",
       "    <tr>\n",
       "      <th>Power</th>\n",
       "      <td>98534.0</td>\n",
       "      <td>203</td>\n",
       "    </tr>\n",
       "    <tr>\n",
       "      <th>Telecom</th>\n",
       "      <td>8061.0</td>\n",
       "      <td>63</td>\n",
       "    </tr>\n",
       "    <tr>\n",
       "      <th>Transport</th>\n",
       "      <td>120203.0</td>\n",
       "      <td>317</td>\n",
       "    </tr>\n",
       "  </tbody>\n",
       "</table>\n",
       "</div>"
      ],
      "text/plain": [
       "                                  AMOUNT  SECTOR\n",
       "SECTOR                                          \n",
       "Agricultiure and Food             7526.0      27\n",
       "Extraction and Pipelines        114187.0      38\n",
       "Government                       23120.0     138\n",
       "Manufacturing                     8747.0      12\n",
       "Mulit-sector and discretionary   59156.0      30\n",
       "Other construction               22613.0      29\n",
       "Power                            98534.0     203\n",
       "Telecom                           8061.0      63\n",
       "Transport                       120203.0     317"
      ]
     },
     "execution_count": 113,
     "metadata": {},
     "output_type": "execute_result"
    }
   ],
   "source": [
    "loan_per_sector"
   ]
  },
  {
   "cell_type": "code",
   "execution_count": 114,
   "id": "0153df40",
   "metadata": {},
   "outputs": [],
   "source": [
    "loan_per_sector.rename(columns = {'AMOUNT': 'Amount','SECTOR': 'Count'}, inplace = True)"
   ]
  },
  {
   "cell_type": "code",
   "execution_count": 115,
   "id": "15c65d89",
   "metadata": {},
   "outputs": [
    {
     "data": {
      "text/html": [
       "<div>\n",
       "<style scoped>\n",
       "    .dataframe tbody tr th:only-of-type {\n",
       "        vertical-align: middle;\n",
       "    }\n",
       "\n",
       "    .dataframe tbody tr th {\n",
       "        vertical-align: top;\n",
       "    }\n",
       "\n",
       "    .dataframe thead th {\n",
       "        text-align: right;\n",
       "    }\n",
       "</style>\n",
       "<table border=\"1\" class=\"dataframe\">\n",
       "  <thead>\n",
       "    <tr style=\"text-align: right;\">\n",
       "      <th></th>\n",
       "      <th>Amount</th>\n",
       "      <th>Count</th>\n",
       "    </tr>\n",
       "    <tr>\n",
       "      <th>SECTOR</th>\n",
       "      <th></th>\n",
       "      <th></th>\n",
       "    </tr>\n",
       "  </thead>\n",
       "  <tbody>\n",
       "    <tr>\n",
       "      <th>Agricultiure and Food</th>\n",
       "      <td>7526.0</td>\n",
       "      <td>27</td>\n",
       "    </tr>\n",
       "    <tr>\n",
       "      <th>Extraction and Pipelines</th>\n",
       "      <td>114187.0</td>\n",
       "      <td>38</td>\n",
       "    </tr>\n",
       "    <tr>\n",
       "      <th>Government</th>\n",
       "      <td>23120.0</td>\n",
       "      <td>138</td>\n",
       "    </tr>\n",
       "    <tr>\n",
       "      <th>Manufacturing</th>\n",
       "      <td>8747.0</td>\n",
       "      <td>12</td>\n",
       "    </tr>\n",
       "    <tr>\n",
       "      <th>Mulit-sector and discretionary</th>\n",
       "      <td>59156.0</td>\n",
       "      <td>30</td>\n",
       "    </tr>\n",
       "    <tr>\n",
       "      <th>Other construction</th>\n",
       "      <td>22613.0</td>\n",
       "      <td>29</td>\n",
       "    </tr>\n",
       "    <tr>\n",
       "      <th>Power</th>\n",
       "      <td>98534.0</td>\n",
       "      <td>203</td>\n",
       "    </tr>\n",
       "    <tr>\n",
       "      <th>Telecom</th>\n",
       "      <td>8061.0</td>\n",
       "      <td>63</td>\n",
       "    </tr>\n",
       "    <tr>\n",
       "      <th>Transport</th>\n",
       "      <td>120203.0</td>\n",
       "      <td>317</td>\n",
       "    </tr>\n",
       "  </tbody>\n",
       "</table>\n",
       "</div>"
      ],
      "text/plain": [
       "                                  Amount  Count\n",
       "SECTOR                                         \n",
       "Agricultiure and Food             7526.0     27\n",
       "Extraction and Pipelines        114187.0     38\n",
       "Government                       23120.0    138\n",
       "Manufacturing                     8747.0     12\n",
       "Mulit-sector and discretionary   59156.0     30\n",
       "Other construction               22613.0     29\n",
       "Power                            98534.0    203\n",
       "Telecom                           8061.0     63\n",
       "Transport                       120203.0    317"
      ]
     },
     "execution_count": 115,
     "metadata": {},
     "output_type": "execute_result"
    }
   ],
   "source": [
    "loan_per_sector"
   ]
  },
  {
   "cell_type": "code",
   "execution_count": 116,
   "id": "4324f441",
   "metadata": {},
   "outputs": [
    {
     "data": {
      "text/plain": [
       "<AxesSubplot:ylabel='SECTOR'>"
      ]
     },
     "execution_count": 116,
     "metadata": {},
     "output_type": "execute_result"
    },
    {
     "data": {
      "image/png": "[encoded data removed]",
      "text/plain": [
       "<Figure size 1152x576 with 1 Axes>"
      ]
     },
     "metadata": {
      "needs_background": "light"
     },
     "output_type": "display_data"
    }
   ],
   "source": [
    "loan_per_sector.sort_values('Count', ascending = True).plot(y = 'Count',kind='barh', color = 'Green', figsize = (16,8))"
   ]
  },
  {
   "cell_type": "code",
   "execution_count": 117,
   "id": "5ce1385b",
   "metadata": {},
   "outputs": [
    {
     "data": {
      "text/plain": [
       "<AxesSubplot:ylabel='SECTOR'>"
      ]
     },
     "execution_count": 117,
     "metadata": {},
     "output_type": "execute_result"
    },
    {
     "data": {
      "image/png": "[encoded data removed]",
      "text/plain": [
       "<Figure size 1152x576 with 1 Axes>"
      ]
     },
     "metadata": {
      "needs_background": "light"
     },
     "output_type": "display_data"
    }
   ],
   "source": [
    "loan_per_sector.sort_values('Amount', ascending = True).plot(y = 'Count',kind='barh', color = 'Green', figsize = (16,8))"
   ]
  },
  {
   "cell_type": "markdown",
   "id": "1d25fa55",
   "metadata": {},
   "source": [
    "- From the above two diagram we can conclude highest number and highest amount of loan were given for Transport sector."
   ]
  },
  {
   "cell_type": "code",
   "execution_count": 119,
   "id": "58c61761",
   "metadata": {},
   "outputs": [],
   "source": [
    "loan_country_sector = df[['Country','SECTOR','AMOUNT']].groupby(['Country', 'SECTOR']).sum('AMOUNT')"
   ]
  },
  {
   "cell_type": "code",
   "execution_count": 120,
   "id": "f77d331e",
   "metadata": {},
   "outputs": [
    {
     "data": {
      "text/html": [
       "<div>\n",
       "<style scoped>\n",
       "    .dataframe tbody tr th:only-of-type {\n",
       "        vertical-align: middle;\n",
       "    }\n",
       "\n",
       "    .dataframe tbody tr th {\n",
       "        vertical-align: top;\n",
       "    }\n",
       "\n",
       "    .dataframe thead th {\n",
       "        text-align: right;\n",
       "    }\n",
       "</style>\n",
       "<table border=\"1\" class=\"dataframe\">\n",
       "  <thead>\n",
       "    <tr style=\"text-align: right;\">\n",
       "      <th></th>\n",
       "      <th></th>\n",
       "      <th>AMOUNT</th>\n",
       "    </tr>\n",
       "    <tr>\n",
       "      <th>Country</th>\n",
       "      <th>SECTOR</th>\n",
       "      <th></th>\n",
       "    </tr>\n",
       "  </thead>\n",
       "  <tbody>\n",
       "    <tr>\n",
       "      <th>Venezuela</th>\n",
       "      <th>Mulit-sector and discretionary</th>\n",
       "      <td>40500.0</td>\n",
       "    </tr>\n",
       "    <tr>\n",
       "      <th>Russian Federation</th>\n",
       "      <th>Extraction and Pipelines</th>\n",
       "      <td>27500.0</td>\n",
       "    </tr>\n",
       "    <tr>\n",
       "      <th>Brazil</th>\n",
       "      <th>Extraction and Pipelines</th>\n",
       "      <td>25000.0</td>\n",
       "    </tr>\n",
       "    <tr>\n",
       "      <th>Pakistan</th>\n",
       "      <th>Power</th>\n",
       "      <td>18406.0</td>\n",
       "    </tr>\n",
       "    <tr>\n",
       "      <th>Angola</th>\n",
       "      <th>Extraction and Pipelines</th>\n",
       "      <td>17500.0</td>\n",
       "    </tr>\n",
       "    <tr>\n",
       "      <th>Pakistan</th>\n",
       "      <th>Transport</th>\n",
       "      <td>16803.0</td>\n",
       "    </tr>\n",
       "    <tr>\n",
       "      <th>Venezuela</th>\n",
       "      <th>Extraction and Pipelines</th>\n",
       "      <td>15200.0</td>\n",
       "    </tr>\n",
       "    <tr>\n",
       "      <th>Iran</th>\n",
       "      <th>Other construction</th>\n",
       "      <td>15000.0</td>\n",
       "    </tr>\n",
       "    <tr>\n",
       "      <th>Turkmenistan</th>\n",
       "      <th>Extraction and Pipelines</th>\n",
       "      <td>14200.0</td>\n",
       "    </tr>\n",
       "    <tr>\n",
       "      <th>Argentina</th>\n",
       "      <th>Transport</th>\n",
       "      <td>13871.0</td>\n",
       "    </tr>\n",
       "  </tbody>\n",
       "</table>\n",
       "</div>"
      ],
      "text/plain": [
       "                                                    AMOUNT\n",
       "Country            SECTOR                                 \n",
       "Venezuela          Mulit-sector and discretionary  40500.0\n",
       "Russian Federation Extraction and Pipelines        27500.0\n",
       "Brazil             Extraction and Pipelines        25000.0\n",
       "Pakistan           Power                           18406.0\n",
       "Angola             Extraction and Pipelines        17500.0\n",
       "Pakistan           Transport                       16803.0\n",
       "Venezuela          Extraction and Pipelines        15200.0\n",
       "Iran               Other construction              15000.0\n",
       "Turkmenistan       Extraction and Pipelines        14200.0\n",
       "Argentina          Transport                       13871.0"
      ]
     },
     "execution_count": 120,
     "metadata": {},
     "output_type": "execute_result"
    }
   ],
   "source": [
    "loan_country_sector[['AMOUNT']].sort_values('AMOUNT', ascending = False).head(10)"
   ]
  },
  {
   "cell_type": "code",
   "execution_count": 124,
   "id": "07f741d9",
   "metadata": {},
   "outputs": [
    {
     "name": "stdout",
     "output_type": "stream",
     "text": [
      "5 232 634\n"
     ]
    }
   ],
   "source": [
    "print(sum(df['Other_Lenders']), sum(df['CDB']),sum(df['ExImBank']))"
   ]
  },
  {
   "cell_type": "code",
   "execution_count": 121,
   "id": "a3df646a",
   "metadata": {},
   "outputs": [
    {
     "data": {
      "text/html": [
       "<div>\n",
       "<style scoped>\n",
       "    .dataframe tbody tr th:only-of-type {\n",
       "        vertical-align: middle;\n",
       "    }\n",
       "\n",
       "    .dataframe tbody tr th {\n",
       "        vertical-align: top;\n",
       "    }\n",
       "\n",
       "    .dataframe thead th {\n",
       "        text-align: right;\n",
       "    }\n",
       "</style>\n",
       "<table border=\"1\" class=\"dataframe\">\n",
       "  <thead>\n",
       "    <tr style=\"text-align: right;\">\n",
       "      <th></th>\n",
       "      <th>YEAR</th>\n",
       "      <th>AMOUNT</th>\n",
       "      <th>SECTOR</th>\n",
       "      <th>SENSITIVE TERRITORY OVERLAP</th>\n",
       "      <th>Country</th>\n",
       "      <th>Other_Lenders</th>\n",
       "      <th>CDB</th>\n",
       "      <th>ExImBank</th>\n",
       "      <th>Borrower_Gov</th>\n",
       "    </tr>\n",
       "  </thead>\n",
       "  <tbody>\n",
       "    <tr>\n",
       "      <th>0</th>\n",
       "      <td>2011</td>\n",
       "      <td>50.0</td>\n",
       "      <td>Transport</td>\n",
       "      <td>None Known</td>\n",
       "      <td>Angola</td>\n",
       "      <td>0</td>\n",
       "      <td>1</td>\n",
       "      <td>0</td>\n",
       "      <td>1.0</td>\n",
       "    </tr>\n",
       "    <tr>\n",
       "      <th>1</th>\n",
       "      <td>2009</td>\n",
       "      <td>7000.0</td>\n",
       "      <td>Extraction and Pipelines</td>\n",
       "      <td>None Known</td>\n",
       "      <td>Brazil</td>\n",
       "      <td>0</td>\n",
       "      <td>1</td>\n",
       "      <td>0</td>\n",
       "      <td>0.0</td>\n",
       "    </tr>\n",
       "    <tr>\n",
       "      <th>2</th>\n",
       "      <td>2012</td>\n",
       "      <td>47.0</td>\n",
       "      <td>Government</td>\n",
       "      <td>None Known</td>\n",
       "      <td>Suriname</td>\n",
       "      <td>0</td>\n",
       "      <td>0</td>\n",
       "      <td>1</td>\n",
       "      <td>1.0</td>\n",
       "    </tr>\n",
       "    <tr>\n",
       "      <th>3</th>\n",
       "      <td>2009</td>\n",
       "      <td>475.0</td>\n",
       "      <td>Power</td>\n",
       "      <td>None Known</td>\n",
       "      <td>Cambodia</td>\n",
       "      <td>0</td>\n",
       "      <td>0</td>\n",
       "      <td>1</td>\n",
       "      <td>0.0</td>\n",
       "    </tr>\n",
       "    <tr>\n",
       "      <th>4</th>\n",
       "      <td>2016</td>\n",
       "      <td>600.0</td>\n",
       "      <td>Mulit-sector and discretionary</td>\n",
       "      <td>None Known</td>\n",
       "      <td>Kenya</td>\n",
       "      <td>0</td>\n",
       "      <td>1</td>\n",
       "      <td>0</td>\n",
       "      <td>0.0</td>\n",
       "    </tr>\n",
       "  </tbody>\n",
       "</table>\n",
       "</div>"
      ],
      "text/plain": [
       "   YEAR  AMOUNT                          SECTOR SENSITIVE TERRITORY OVERLAP  \\\n",
       "0  2011    50.0                       Transport                  None Known   \n",
       "1  2009  7000.0        Extraction and Pipelines                  None Known   \n",
       "2  2012    47.0                      Government                  None Known   \n",
       "3  2009   475.0                           Power                  None Known   \n",
       "4  2016   600.0  Mulit-sector and discretionary                  None Known   \n",
       "\n",
       "    Country  Other_Lenders  CDB  ExImBank  Borrower_Gov  \n",
       "0    Angola              0    1         0           1.0  \n",
       "1    Brazil              0    1         0           0.0  \n",
       "2  Suriname              0    0         1           1.0  \n",
       "3  Cambodia              0    0         1           0.0  \n",
       "4     Kenya              0    1         0           0.0  "
      ]
     },
     "execution_count": 121,
     "metadata": {},
     "output_type": "execute_result"
    }
   ],
   "source": [
    "df.head()"
   ]
  },
  {
   "cell_type": "code",
   "execution_count": 125,
   "id": "6253d248",
   "metadata": {},
   "outputs": [
    {
     "data": {
      "text/plain": [
       "Text(0.5, 1.0, 'ExImBank')"
      ]
     },
     "execution_count": 125,
     "metadata": {},
     "output_type": "execute_result"
    },
    {
     "data": {
      "image/png": "[encoded data removed]",
      "text/plain": [
       "<Figure size 1512x864 with 3 Axes>"
      ]
     },
     "metadata": {},
     "output_type": "display_data"
    }
   ],
   "source": [
    "plt.figure(figsize = (21,12))\n",
    "c = df['Other_Lenders'].value_counts()\n",
    "plt.subplot(1,3,1)\n",
    "plt.pie(x = c, data = df, labels = c.index, colors = ['y','Green'],autopct='%.0f%%')\n",
    "plt.title('Other_Lenders')\n",
    "c = df['CDB'].value_counts()\n",
    "plt.subplot(1,3,2)\n",
    "plt.pie(x = c, data = df, labels = c.index, colors = ['y','Green'],autopct='%.0f%%')\n",
    "plt.title('CDB')\n",
    "c = df['ExImBank'].value_counts()\n",
    "plt.subplot(1,3,3)\n",
    "plt.pie(x = c, data = df, labels = c.index, colors = ['Green','y'],autopct='%.0f%%')\n",
    "plt.title('ExImBank')"
   ]
  },
  {
   "cell_type": "markdown",
   "id": "cde1722a",
   "metadata": {},
   "source": [
    "- From the above diagram we can conclude higest amount loan were given by Exim Bank, followed by CDA and others bank."
   ]
  },
  {
   "cell_type": "markdown",
   "id": "602071a5",
   "metadata": {},
   "source": [
    "# <h1><center> Thank You ! </center></h1>"
   ]
  }
 ],
 "metadata": {
  "kernelspec": {
   "display_name": "Python 3 (ipykernel)",
   "language": "python",
   "name": "python3"
  },
  "language_info": {
   "codemirror_mode": {
    "name": "ipython",
    "version": 3
   },
   "file_extension": ".py",
   "mimetype": "text/x-python",
   "name": "python",
   "nbconvert_exporter": "python",
   "pygments_lexer": "ipython3",
   "version": "3.9.7"
  }
 },
 "nbformat": 4,
 "nbformat_minor": 5
}
